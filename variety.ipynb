{
  "nbformat": 4,
  "nbformat_minor": 0,
  "metadata": {
    "colab": {
      "name": "Untitled0.ipynb",
      "provenance": [],
      "authorship_tag": "ABX9TyNzK3xgKtqMmrPUd4nWOltN",
      "include_colab_link": true
    },
    "kernelspec": {
      "name": "python3",
      "display_name": "Python 3"
    }
  },
  "cells": [
    {
      "cell_type": "markdown",
      "metadata": {
        "id": "view-in-github",
        "colab_type": "text"
      },
      "source": [
        "<a href=\"https://colab.research.google.com/github/syeda-rosa10/knightml/blob/master/variety.ipynb\" target=\"_parent\"><img src=\"https://colab.research.google.com/assets/colab-badge.svg\" alt=\"Open In Colab\"/></a>"
      ]
    },
    {
      "cell_type": "code",
      "metadata": {
        "id": "j4J_hQECxxqj",
        "colab_type": "code",
        "outputId": "271b996d-0c9f-495c-9bd3-9f8f200e38a2",
        "colab": {
          "base_uri": "https://localhost:8080/",
          "height": 54
        }
      },
      "source": [
        "from google.colab import drive\n",
        "drive.mount(\"/content/drive/\") "
      ],
      "execution_count": 0,
      "outputs": [
        {
          "output_type": "stream",
          "text": [
            "Drive already mounted at /content/drive/; to attempt to forcibly remount, call drive.mount(\"/content/drive/\", force_remount=True).\n"
          ],
          "name": "stdout"
        }
      ]
    },
    {
      "cell_type": "code",
      "metadata": {
        "id": "z70-KjHMsbwi",
        "colab_type": "code",
        "colab": {}
      },
      "source": [
        "import pandas as pd\n",
        "import numpy as np\n",
        "import matplotlib.pyplot as plt"
      ],
      "execution_count": 0,
      "outputs": []
    },
    {
      "cell_type": "code",
      "metadata": {
        "id": "3BTATHnzuNDi",
        "colab_type": "code",
        "colab": {}
      },
      "source": [
        "wine_train=pd.read_csv(\"/content/drive/My Drive/fin tech/train.csv\")"
      ],
      "execution_count": 0,
      "outputs": []
    },
    {
      "cell_type": "code",
      "metadata": {
        "id": "uim9GG8RuiBk",
        "colab_type": "code",
        "colab": {
          "base_uri": "https://localhost:8080/",
          "height": 340
        },
        "outputId": "3c29ed87-28ee-4275-b52f-2dd6cd439ccf"
      },
      "source": [
        "wine_train.head(5)"
      ],
      "execution_count": 106,
      "outputs": [
        {
          "output_type": "execute_result",
          "data": {
            "text/html": [
              "<div>\n",
              "<style scoped>\n",
              "    .dataframe tbody tr th:only-of-type {\n",
              "        vertical-align: middle;\n",
              "    }\n",
              "\n",
              "    .dataframe tbody tr th {\n",
              "        vertical-align: top;\n",
              "    }\n",
              "\n",
              "    .dataframe thead th {\n",
              "        text-align: right;\n",
              "    }\n",
              "</style>\n",
              "<table border=\"1\" class=\"dataframe\">\n",
              "  <thead>\n",
              "    <tr style=\"text-align: right;\">\n",
              "      <th></th>\n",
              "      <th>user_name</th>\n",
              "      <th>country</th>\n",
              "      <th>review_title</th>\n",
              "      <th>review_description</th>\n",
              "      <th>designation</th>\n",
              "      <th>points</th>\n",
              "      <th>price</th>\n",
              "      <th>province</th>\n",
              "      <th>region_1</th>\n",
              "      <th>region_2</th>\n",
              "      <th>winery</th>\n",
              "      <th>variety</th>\n",
              "    </tr>\n",
              "  </thead>\n",
              "  <tbody>\n",
              "    <tr>\n",
              "      <th>0</th>\n",
              "      <td>NaN</td>\n",
              "      <td>Australia</td>\n",
              "      <td>Andrew Peace 2007 Peace Family Vineyard Chardo...</td>\n",
              "      <td>Classic Chardonnay aromas of apple, pear and h...</td>\n",
              "      <td>Peace Family Vineyard</td>\n",
              "      <td>83</td>\n",
              "      <td>10.0</td>\n",
              "      <td>Australia Other</td>\n",
              "      <td>South Eastern Australia</td>\n",
              "      <td>NaN</td>\n",
              "      <td>Andrew Peace</td>\n",
              "      <td>Chardonnay</td>\n",
              "    </tr>\n",
              "    <tr>\n",
              "      <th>1</th>\n",
              "      <td>@wawinereport</td>\n",
              "      <td>US</td>\n",
              "      <td>North by Northwest 2014 Red (Columbia Valley (...</td>\n",
              "      <td>This wine is near equal parts Syrah and Merlot...</td>\n",
              "      <td>NaN</td>\n",
              "      <td>89</td>\n",
              "      <td>15.0</td>\n",
              "      <td>Washington</td>\n",
              "      <td>Columbia Valley (WA)</td>\n",
              "      <td>Columbia Valley</td>\n",
              "      <td>North by Northwest</td>\n",
              "      <td>Red Blend</td>\n",
              "    </tr>\n",
              "    <tr>\n",
              "      <th>2</th>\n",
              "      <td>NaN</td>\n",
              "      <td>Italy</td>\n",
              "      <td>Renato Ratti 2007 Conca  (Barolo)</td>\n",
              "      <td>Barolo Conca opens with inky dark concentratio...</td>\n",
              "      <td>Conca</td>\n",
              "      <td>94</td>\n",
              "      <td>80.0</td>\n",
              "      <td>Piedmont</td>\n",
              "      <td>Barolo</td>\n",
              "      <td>NaN</td>\n",
              "      <td>Renato Ratti</td>\n",
              "      <td>Nebbiolo</td>\n",
              "    </tr>\n",
              "    <tr>\n",
              "      <th>3</th>\n",
              "      <td>@vossroger</td>\n",
              "      <td>France</td>\n",
              "      <td>Domaine l'Ancienne Cure 2010 L'Abbaye White (B...</td>\n",
              "      <td>It's impressive what a small addition of Sauvi...</td>\n",
              "      <td>L'Abbaye</td>\n",
              "      <td>87</td>\n",
              "      <td>22.0</td>\n",
              "      <td>Southwest France</td>\n",
              "      <td>Bergerac Sec</td>\n",
              "      <td>NaN</td>\n",
              "      <td>Domaine l'Ancienne Cure</td>\n",
              "      <td>Bordeaux-style White Blend</td>\n",
              "    </tr>\n",
              "    <tr>\n",
              "      <th>4</th>\n",
              "      <td>@vossroger</td>\n",
              "      <td>France</td>\n",
              "      <td>Château du Cèdre 2012 Le Cèdre Vintage Malbec ...</td>\n",
              "      <td>This ripe, sweet wine is rich and full of drie...</td>\n",
              "      <td>Le Cèdre Vintage</td>\n",
              "      <td>88</td>\n",
              "      <td>33.0</td>\n",
              "      <td>France Other</td>\n",
              "      <td>Vin de Liqueur</td>\n",
              "      <td>NaN</td>\n",
              "      <td>Château du Cèdre</td>\n",
              "      <td>Malbec</td>\n",
              "    </tr>\n",
              "  </tbody>\n",
              "</table>\n",
              "</div>"
            ],
            "text/plain": [
              "       user_name  ...                     variety\n",
              "0            NaN  ...                  Chardonnay\n",
              "1  @wawinereport  ...                   Red Blend\n",
              "2            NaN  ...                    Nebbiolo\n",
              "3     @vossroger  ...  Bordeaux-style White Blend\n",
              "4     @vossroger  ...                      Malbec\n",
              "\n",
              "[5 rows x 12 columns]"
            ]
          },
          "metadata": {
            "tags": []
          },
          "execution_count": 106
        }
      ]
    },
    {
      "cell_type": "code",
      "metadata": {
        "id": "cfhzFwW5zfIS",
        "colab_type": "code",
        "colab": {
          "base_uri": "https://localhost:8080/",
          "height": 340
        },
        "outputId": "196129d0-68e7-4a60-a5dc-ad356edd5cb8"
      },
      "source": [
        "wine_train.info()"
      ],
      "execution_count": 107,
      "outputs": [
        {
          "output_type": "stream",
          "text": [
            "<class 'pandas.core.frame.DataFrame'>\n",
            "RangeIndex: 82657 entries, 0 to 82656\n",
            "Data columns (total 12 columns):\n",
            " #   Column              Non-Null Count  Dtype  \n",
            "---  ------              --------------  -----  \n",
            " 0   user_name           63264 non-null  object \n",
            " 1   country             82622 non-null  object \n",
            " 2   review_title        82657 non-null  object \n",
            " 3   review_description  82657 non-null  object \n",
            " 4   designation         59010 non-null  object \n",
            " 5   points              82657 non-null  int64  \n",
            " 6   price               77088 non-null  float64\n",
            " 7   province            82622 non-null  object \n",
            " 8   region_1            69903 non-null  object \n",
            " 9   region_2            35949 non-null  object \n",
            " 10  winery              82657 non-null  object \n",
            " 11  variety             82657 non-null  object \n",
            "dtypes: float64(1), int64(1), object(10)\n",
            "memory usage: 7.6+ MB\n"
          ],
          "name": "stdout"
        }
      ]
    },
    {
      "cell_type": "code",
      "metadata": {
        "id": "VML4VZW_zkkr",
        "colab_type": "code",
        "colab": {
          "base_uri": "https://localhost:8080/",
          "height": 34
        },
        "outputId": "82b1ed23-f6ad-4aa5-c49a-ae2551136936"
      },
      "source": [
        "wine_train.shape"
      ],
      "execution_count": 108,
      "outputs": [
        {
          "output_type": "execute_result",
          "data": {
            "text/plain": [
              "(82657, 12)"
            ]
          },
          "metadata": {
            "tags": []
          },
          "execution_count": 108
        }
      ]
    },
    {
      "cell_type": "code",
      "metadata": {
        "id": "C6ftnmK6zszj",
        "colab_type": "code",
        "colab": {
          "base_uri": "https://localhost:8080/",
          "height": 424
        },
        "outputId": "afcbd30e-7a48-49cf-99a7-f15ee8f3e542"
      },
      "source": [
        "wine_train.describe(include='all')"
      ],
      "execution_count": 109,
      "outputs": [
        {
          "output_type": "execute_result",
          "data": {
            "text/html": [
              "<div>\n",
              "<style scoped>\n",
              "    .dataframe tbody tr th:only-of-type {\n",
              "        vertical-align: middle;\n",
              "    }\n",
              "\n",
              "    .dataframe tbody tr th {\n",
              "        vertical-align: top;\n",
              "    }\n",
              "\n",
              "    .dataframe thead th {\n",
              "        text-align: right;\n",
              "    }\n",
              "</style>\n",
              "<table border=\"1\" class=\"dataframe\">\n",
              "  <thead>\n",
              "    <tr style=\"text-align: right;\">\n",
              "      <th></th>\n",
              "      <th>user_name</th>\n",
              "      <th>country</th>\n",
              "      <th>review_title</th>\n",
              "      <th>review_description</th>\n",
              "      <th>designation</th>\n",
              "      <th>points</th>\n",
              "      <th>price</th>\n",
              "      <th>province</th>\n",
              "      <th>region_1</th>\n",
              "      <th>region_2</th>\n",
              "      <th>winery</th>\n",
              "      <th>variety</th>\n",
              "    </tr>\n",
              "  </thead>\n",
              "  <tbody>\n",
              "    <tr>\n",
              "      <th>count</th>\n",
              "      <td>63264</td>\n",
              "      <td>82622</td>\n",
              "      <td>82657</td>\n",
              "      <td>82657</td>\n",
              "      <td>59010</td>\n",
              "      <td>82657.000000</td>\n",
              "      <td>77088.000000</td>\n",
              "      <td>82622</td>\n",
              "      <td>69903</td>\n",
              "      <td>35949</td>\n",
              "      <td>82657</td>\n",
              "      <td>82657</td>\n",
              "    </tr>\n",
              "    <tr>\n",
              "      <th>unique</th>\n",
              "      <td>15</td>\n",
              "      <td>38</td>\n",
              "      <td>76983</td>\n",
              "      <td>77628</td>\n",
              "      <td>26424</td>\n",
              "      <td>NaN</td>\n",
              "      <td>NaN</td>\n",
              "      <td>358</td>\n",
              "      <td>1019</td>\n",
              "      <td>17</td>\n",
              "      <td>13786</td>\n",
              "      <td>28</td>\n",
              "    </tr>\n",
              "    <tr>\n",
              "      <th>top</th>\n",
              "      <td>@vossroger</td>\n",
              "      <td>US</td>\n",
              "      <td>Gloria Ferrer NV Sonoma Brut Sparkling (Sonoma...</td>\n",
              "      <td>Named after the kingfisher bird, this wine has...</td>\n",
              "      <td>Reserve</td>\n",
              "      <td>NaN</td>\n",
              "      <td>NaN</td>\n",
              "      <td>California</td>\n",
              "      <td>Napa Valley</td>\n",
              "      <td>Central Coast</td>\n",
              "      <td>Testarossa</td>\n",
              "      <td>Pinot Noir</td>\n",
              "    </tr>\n",
              "    <tr>\n",
              "      <th>freq</th>\n",
              "      <td>17539</td>\n",
              "      <td>38573</td>\n",
              "      <td>8</td>\n",
              "      <td>2</td>\n",
              "      <td>1382</td>\n",
              "      <td>NaN</td>\n",
              "      <td>NaN</td>\n",
              "      <td>25736</td>\n",
              "      <td>3334</td>\n",
              "      <td>7503</td>\n",
              "      <td>175</td>\n",
              "      <td>10587</td>\n",
              "    </tr>\n",
              "    <tr>\n",
              "      <th>mean</th>\n",
              "      <td>NaN</td>\n",
              "      <td>NaN</td>\n",
              "      <td>NaN</td>\n",
              "      <td>NaN</td>\n",
              "      <td>NaN</td>\n",
              "      <td>88.544564</td>\n",
              "      <td>36.922232</td>\n",
              "      <td>NaN</td>\n",
              "      <td>NaN</td>\n",
              "      <td>NaN</td>\n",
              "      <td>NaN</td>\n",
              "      <td>NaN</td>\n",
              "    </tr>\n",
              "    <tr>\n",
              "      <th>std</th>\n",
              "      <td>NaN</td>\n",
              "      <td>NaN</td>\n",
              "      <td>NaN</td>\n",
              "      <td>NaN</td>\n",
              "      <td>NaN</td>\n",
              "      <td>3.099649</td>\n",
              "      <td>43.698346</td>\n",
              "      <td>NaN</td>\n",
              "      <td>NaN</td>\n",
              "      <td>NaN</td>\n",
              "      <td>NaN</td>\n",
              "      <td>NaN</td>\n",
              "    </tr>\n",
              "    <tr>\n",
              "      <th>min</th>\n",
              "      <td>NaN</td>\n",
              "      <td>NaN</td>\n",
              "      <td>NaN</td>\n",
              "      <td>NaN</td>\n",
              "      <td>NaN</td>\n",
              "      <td>80.000000</td>\n",
              "      <td>4.000000</td>\n",
              "      <td>NaN</td>\n",
              "      <td>NaN</td>\n",
              "      <td>NaN</td>\n",
              "      <td>NaN</td>\n",
              "      <td>NaN</td>\n",
              "    </tr>\n",
              "    <tr>\n",
              "      <th>25%</th>\n",
              "      <td>NaN</td>\n",
              "      <td>NaN</td>\n",
              "      <td>NaN</td>\n",
              "      <td>NaN</td>\n",
              "      <td>NaN</td>\n",
              "      <td>86.000000</td>\n",
              "      <td>18.000000</td>\n",
              "      <td>NaN</td>\n",
              "      <td>NaN</td>\n",
              "      <td>NaN</td>\n",
              "      <td>NaN</td>\n",
              "      <td>NaN</td>\n",
              "    </tr>\n",
              "    <tr>\n",
              "      <th>50%</th>\n",
              "      <td>NaN</td>\n",
              "      <td>NaN</td>\n",
              "      <td>NaN</td>\n",
              "      <td>NaN</td>\n",
              "      <td>NaN</td>\n",
              "      <td>88.000000</td>\n",
              "      <td>27.000000</td>\n",
              "      <td>NaN</td>\n",
              "      <td>NaN</td>\n",
              "      <td>NaN</td>\n",
              "      <td>NaN</td>\n",
              "      <td>NaN</td>\n",
              "    </tr>\n",
              "    <tr>\n",
              "      <th>75%</th>\n",
              "      <td>NaN</td>\n",
              "      <td>NaN</td>\n",
              "      <td>NaN</td>\n",
              "      <td>NaN</td>\n",
              "      <td>NaN</td>\n",
              "      <td>91.000000</td>\n",
              "      <td>45.000000</td>\n",
              "      <td>NaN</td>\n",
              "      <td>NaN</td>\n",
              "      <td>NaN</td>\n",
              "      <td>NaN</td>\n",
              "      <td>NaN</td>\n",
              "    </tr>\n",
              "    <tr>\n",
              "      <th>max</th>\n",
              "      <td>NaN</td>\n",
              "      <td>NaN</td>\n",
              "      <td>NaN</td>\n",
              "      <td>NaN</td>\n",
              "      <td>NaN</td>\n",
              "      <td>100.000000</td>\n",
              "      <td>3300.000000</td>\n",
              "      <td>NaN</td>\n",
              "      <td>NaN</td>\n",
              "      <td>NaN</td>\n",
              "      <td>NaN</td>\n",
              "      <td>NaN</td>\n",
              "    </tr>\n",
              "  </tbody>\n",
              "</table>\n",
              "</div>"
            ],
            "text/plain": [
              "         user_name country  ...      winery     variety\n",
              "count        63264   82622  ...       82657       82657\n",
              "unique          15      38  ...       13786          28\n",
              "top     @vossroger      US  ...  Testarossa  Pinot Noir\n",
              "freq         17539   38573  ...         175       10587\n",
              "mean           NaN     NaN  ...         NaN         NaN\n",
              "std            NaN     NaN  ...         NaN         NaN\n",
              "min            NaN     NaN  ...         NaN         NaN\n",
              "25%            NaN     NaN  ...         NaN         NaN\n",
              "50%            NaN     NaN  ...         NaN         NaN\n",
              "75%            NaN     NaN  ...         NaN         NaN\n",
              "max            NaN     NaN  ...         NaN         NaN\n",
              "\n",
              "[11 rows x 12 columns]"
            ]
          },
          "metadata": {
            "tags": []
          },
          "execution_count": 109
        }
      ]
    },
    {
      "cell_type": "code",
      "metadata": {
        "id": "t67zmwsFz2QP",
        "colab_type": "code",
        "colab": {
          "base_uri": "https://localhost:8080/",
          "height": 535
        },
        "outputId": "d480e296-7600-4a87-8b50-763da6384f0e"
      },
      "source": [
        "dup=wine_train[wine_train['review_description'].duplicated(keep = False)].sort_values('review_description')\n",
        "dup.head(8)"
      ],
      "execution_count": 110,
      "outputs": [
        {
          "output_type": "execute_result",
          "data": {
            "text/html": [
              "<div>\n",
              "<style scoped>\n",
              "    .dataframe tbody tr th:only-of-type {\n",
              "        vertical-align: middle;\n",
              "    }\n",
              "\n",
              "    .dataframe tbody tr th {\n",
              "        vertical-align: top;\n",
              "    }\n",
              "\n",
              "    .dataframe thead th {\n",
              "        text-align: right;\n",
              "    }\n",
              "</style>\n",
              "<table border=\"1\" class=\"dataframe\">\n",
              "  <thead>\n",
              "    <tr style=\"text-align: right;\">\n",
              "      <th></th>\n",
              "      <th>user_name</th>\n",
              "      <th>country</th>\n",
              "      <th>review_title</th>\n",
              "      <th>review_description</th>\n",
              "      <th>designation</th>\n",
              "      <th>points</th>\n",
              "      <th>price</th>\n",
              "      <th>province</th>\n",
              "      <th>region_1</th>\n",
              "      <th>region_2</th>\n",
              "      <th>winery</th>\n",
              "      <th>variety</th>\n",
              "    </tr>\n",
              "  </thead>\n",
              "  <tbody>\n",
              "    <tr>\n",
              "      <th>53655</th>\n",
              "      <td>@wawinereport</td>\n",
              "      <td>US</td>\n",
              "      <td>Roza Ridge 2010 Malbec (Rattlesnake Hills)</td>\n",
              "      <td>100% Malbec, it's redolent with dark plums, wi...</td>\n",
              "      <td>NaN</td>\n",
              "      <td>87</td>\n",
              "      <td>20.0</td>\n",
              "      <td>Washington</td>\n",
              "      <td>Rattlesnake Hills</td>\n",
              "      <td>Columbia Valley</td>\n",
              "      <td>Roza Ridge</td>\n",
              "      <td>Malbec</td>\n",
              "    </tr>\n",
              "    <tr>\n",
              "      <th>73628</th>\n",
              "      <td>@wawinereport</td>\n",
              "      <td>US</td>\n",
              "      <td>Roza Ridge 2010 Malbec (Rattlesnake Hills)</td>\n",
              "      <td>100% Malbec, it's redolent with dark plums, wi...</td>\n",
              "      <td>NaN</td>\n",
              "      <td>87</td>\n",
              "      <td>20.0</td>\n",
              "      <td>Washington</td>\n",
              "      <td>Rattlesnake Hills</td>\n",
              "      <td>Columbia Valley</td>\n",
              "      <td>Roza Ridge</td>\n",
              "      <td>Malbec</td>\n",
              "    </tr>\n",
              "    <tr>\n",
              "      <th>64962</th>\n",
              "      <td>@wawinereport</td>\n",
              "      <td>US</td>\n",
              "      <td>Ross Andrew 2013 Meadow Rosé (Columbia Valley ...</td>\n",
              "      <td>100% Sangiovese, this pale pink wine has notes...</td>\n",
              "      <td>Meadow</td>\n",
              "      <td>88</td>\n",
              "      <td>18.0</td>\n",
              "      <td>Washington</td>\n",
              "      <td>Columbia Valley (WA)</td>\n",
              "      <td>Columbia Valley</td>\n",
              "      <td>Ross Andrew</td>\n",
              "      <td>Rosé</td>\n",
              "    </tr>\n",
              "    <tr>\n",
              "      <th>81272</th>\n",
              "      <td>@wawinereport</td>\n",
              "      <td>US</td>\n",
              "      <td>Ross Andrew 2013 Meadow Rosé (Columbia Valley ...</td>\n",
              "      <td>100% Sangiovese, this pale pink wine has notes...</td>\n",
              "      <td>Meadow</td>\n",
              "      <td>88</td>\n",
              "      <td>18.0</td>\n",
              "      <td>Washington</td>\n",
              "      <td>Columbia Valley (WA)</td>\n",
              "      <td>Columbia Valley</td>\n",
              "      <td>Ross Andrew</td>\n",
              "      <td>Rosé</td>\n",
              "    </tr>\n",
              "    <tr>\n",
              "      <th>45297</th>\n",
              "      <td>@vossroger</td>\n",
              "      <td>France</td>\n",
              "      <td>Château Haut-Sarpe 2008 Barrel sample  (Saint-...</td>\n",
              "      <td>87-89 Barrel sample. Minty aromas give lifted ...</td>\n",
              "      <td>Barrel sample</td>\n",
              "      <td>88</td>\n",
              "      <td>NaN</td>\n",
              "      <td>Bordeaux</td>\n",
              "      <td>Saint-Émilion</td>\n",
              "      <td>NaN</td>\n",
              "      <td>Château Haut-Sarpe</td>\n",
              "      <td>Bordeaux-style Red Blend</td>\n",
              "    </tr>\n",
              "    <tr>\n",
              "      <th>32203</th>\n",
              "      <td>@vossroger</td>\n",
              "      <td>France</td>\n",
              "      <td>Château Haut-Sarpe 2008 Barrel sample  (Saint-...</td>\n",
              "      <td>87-89 Barrel sample. Minty aromas give lifted ...</td>\n",
              "      <td>Barrel sample</td>\n",
              "      <td>88</td>\n",
              "      <td>NaN</td>\n",
              "      <td>Bordeaux</td>\n",
              "      <td>Saint-Émilion</td>\n",
              "      <td>NaN</td>\n",
              "      <td>Château Haut-Sarpe</td>\n",
              "      <td>Bordeaux-style Red Blend</td>\n",
              "    </tr>\n",
              "    <tr>\n",
              "      <th>32312</th>\n",
              "      <td>@vossroger</td>\n",
              "      <td>France</td>\n",
              "      <td>Château Bertineau Saint-Vincent 2008 Barrel sa...</td>\n",
              "      <td>87-89 Barrel sample. With its lovely fresh fru...</td>\n",
              "      <td>Barrel sample</td>\n",
              "      <td>88</td>\n",
              "      <td>NaN</td>\n",
              "      <td>Bordeaux</td>\n",
              "      <td>Lalande de Pomerol</td>\n",
              "      <td>NaN</td>\n",
              "      <td>Château Bertineau Saint-Vincent</td>\n",
              "      <td>Bordeaux-style Red Blend</td>\n",
              "    </tr>\n",
              "    <tr>\n",
              "      <th>69677</th>\n",
              "      <td>@vossroger</td>\n",
              "      <td>France</td>\n",
              "      <td>Château Bertineau Saint-Vincent 2008 Barrel sa...</td>\n",
              "      <td>87-89 Barrel sample. With its lovely fresh fru...</td>\n",
              "      <td>Barrel sample</td>\n",
              "      <td>88</td>\n",
              "      <td>NaN</td>\n",
              "      <td>Bordeaux</td>\n",
              "      <td>Lalande de Pomerol</td>\n",
              "      <td>NaN</td>\n",
              "      <td>Château Bertineau Saint-Vincent</td>\n",
              "      <td>Bordeaux-style Red Blend</td>\n",
              "    </tr>\n",
              "  </tbody>\n",
              "</table>\n",
              "</div>"
            ],
            "text/plain": [
              "           user_name  ...                   variety\n",
              "53655  @wawinereport  ...                    Malbec\n",
              "73628  @wawinereport  ...                    Malbec\n",
              "64962  @wawinereport  ...                      Rosé\n",
              "81272  @wawinereport  ...                      Rosé\n",
              "45297     @vossroger  ...  Bordeaux-style Red Blend\n",
              "32203     @vossroger  ...  Bordeaux-style Red Blend\n",
              "32312     @vossroger  ...  Bordeaux-style Red Blend\n",
              "69677     @vossroger  ...  Bordeaux-style Red Blend\n",
              "\n",
              "[8 rows x 12 columns]"
            ]
          },
          "metadata": {
            "tags": []
          },
          "execution_count": 110
        }
      ]
    },
    {
      "cell_type": "code",
      "metadata": {
        "id": "p17ywxxo0J6R",
        "colab_type": "code",
        "colab": {}
      },
      "source": [
        "wine_train=wine_train.drop_duplicates(\"review_description\")"
      ],
      "execution_count": 0,
      "outputs": []
    },
    {
      "cell_type": "code",
      "metadata": {
        "id": "p2jxAjBz0nCl",
        "colab_type": "code",
        "colab": {
          "base_uri": "https://localhost:8080/",
          "height": 34
        },
        "outputId": "9c81d650-a160-44f2-a441-0d63e2ebdd56"
      },
      "source": [
        "wine_train.shape"
      ],
      "execution_count": 112,
      "outputs": [
        {
          "output_type": "execute_result",
          "data": {
            "text/plain": [
              "(77628, 12)"
            ]
          },
          "metadata": {
            "tags": []
          },
          "execution_count": 112
        }
      ]
    },
    {
      "cell_type": "markdown",
      "metadata": {
        "id": "7UnZN7ka01XS",
        "colab_type": "text"
      },
      "source": [
        "### Visaulization"
      ]
    },
    {
      "cell_type": "code",
      "metadata": {
        "id": "Y4m2IdNa0_q_",
        "colab_type": "code",
        "colab": {
          "base_uri": "https://localhost:8080/",
          "height": 170
        },
        "outputId": "88c1d09b-ba33-4439-e547-40d290ebadbd"
      },
      "source": [
        "wine_train['variety'].unique()"
      ],
      "execution_count": 113,
      "outputs": [
        {
          "output_type": "execute_result",
          "data": {
            "text/plain": [
              "array(['Chardonnay', 'Red Blend', 'Nebbiolo',\n",
              "       'Bordeaux-style White Blend', 'Malbec', 'Cabernet Sauvignon',\n",
              "       'Zinfandel', 'Pinot Noir', 'Sauvignon Blanc', 'Gamay',\n",
              "       'Grüner Veltliner', 'Bordeaux-style Red Blend', 'Sangiovese',\n",
              "       'Syrah', 'White Blend', 'Cabernet Franc', 'Portuguese Red',\n",
              "       'Portuguese White', 'Rhône-style Red Blend', 'Rosé',\n",
              "       'Champagne Blend', 'Merlot', 'Riesling', 'Sparkling Blend',\n",
              "       'Pinot Grigio', 'Tempranillo', 'Pinot Gris', 'Gewürztraminer'],\n",
              "      dtype=object)"
            ]
          },
          "metadata": {
            "tags": []
          },
          "execution_count": 113
        }
      ]
    },
    {
      "cell_type": "code",
      "metadata": {
        "id": "-QLdHLej1LqQ",
        "colab_type": "code",
        "colab": {
          "base_uri": "https://localhost:8080/",
          "height": 425
        },
        "outputId": "d9d2aa9c-bf8d-46c4-892e-1796097027c0"
      },
      "source": [
        "wine_train['variety'].value_counts().plot.bar()\n",
        "plt.title(\"varieties of wine\")\n",
        "plt.xlabel(\"variety\")\n",
        "\n",
        "plt.show()"
      ],
      "execution_count": 114,
      "outputs": [
        {
          "output_type": "display_data",
          "data": {
            "image/png": "[encoded data removed]",
            "text/plain": [
              "<Figure size 432x288 with 1 Axes>"
            ]
          },
          "metadata": {
            "tags": [],
            "needs_background": "light"
          }
        }
      ]
    },
    {
      "cell_type": "code",
      "metadata": {
        "id": "ip4dUIM91yyv",
        "colab_type": "code",
        "colab": {
          "base_uri": "https://localhost:8080/",
          "height": 308
        },
        "outputId": "d753d65c-8be0-4566-87b4-6419f451e218"
      },
      "source": [
        "wine_train['price'].value_counts().head(10).plot.bar()\n",
        "plt.title(\"prices of wine\")\n",
        "plt.xlabel(\"price\")\n",
        "\n",
        "plt.show()"
      ],
      "execution_count": 115,
      "outputs": [
        {
          "output_type": "display_data",
          "data": {
            "image/png": "[encoded data removed]",
            "text/plain": [
              "<Figure size 432x288 with 1 Axes>"
            ]
          },
          "metadata": {
            "tags": [],
            "needs_background": "light"
          }
        }
      ]
    },
    {
      "cell_type": "code",
      "metadata": {
        "id": "EJEzhSfF2cCF",
        "colab_type": "code",
        "colab": {
          "base_uri": "https://localhost:8080/",
          "height": 294
        },
        "outputId": "1f6c3c52-0b3b-402c-d7d3-ccb8804f21f2"
      },
      "source": [
        "wine_train['points'].value_counts().sort_index().plot.bar(stacked=True)"
      ],
      "execution_count": 116,
      "outputs": [
        {
          "output_type": "execute_result",
          "data": {
            "text/plain": [
              "<matplotlib.axes._subplots.AxesSubplot at 0x7fa6491c5860>"
            ]
          },
          "metadata": {
            "tags": []
          },
          "execution_count": 116
        },
        {
          "output_type": "display_data",
          "data": {
            "image/png": "[encoded data removed]",
            "text/plain": [
              "<Figure size 432x288 with 1 Axes>"
            ]
          },
          "metadata": {
            "tags": [],
            "needs_background": "light"
          }
        }
      ]
    },
    {
      "cell_type": "code",
      "metadata": {
        "id": "qNNVFhFA4UfF",
        "colab_type": "code",
        "colab": {
          "base_uri": "https://localhost:8080/",
          "height": 34
        },
        "outputId": "54ca8036-32a7-4c2e-e521-9295d66342c4"
      },
      "source": [
        "len(wine_train[wine_train.points==100])"
      ],
      "execution_count": 117,
      "outputs": [
        {
          "output_type": "execute_result",
          "data": {
            "text/plain": [
              "12"
            ]
          },
          "metadata": {
            "tags": []
          },
          "execution_count": 117
        }
      ]
    },
    {
      "cell_type": "code",
      "metadata": {
        "id": "1X-oiysM4hY7",
        "colab_type": "code",
        "colab": {
          "base_uri": "https://localhost:8080/",
          "height": 363
        },
        "outputId": "92b21061-618a-40bd-f5c8-5e71d532817e"
      },
      "source": [
        "wine_train['province'].value_counts().head(10).plot.bar()"
      ],
      "execution_count": 118,
      "outputs": [
        {
          "output_type": "execute_result",
          "data": {
            "text/plain": [
              "<matplotlib.axes._subplots.AxesSubplot at 0x7fa648f42da0>"
            ]
          },
          "metadata": {
            "tags": []
          },
          "execution_count": 118
        },
        {
          "output_type": "display_data",
          "data": {
            "image/png": "[encoded data removed]",
            "text/plain": [
              "<Figure size 432x288 with 1 Axes>"
            ]
          },
          "metadata": {
            "tags": [],
            "needs_background": "light"
          }
        }
      ]
    },
    {
      "cell_type": "code",
      "metadata": {
        "id": "jOvOefn34wf_",
        "colab_type": "code",
        "colab": {
          "base_uri": "https://localhost:8080/",
          "height": 338
        },
        "outputId": "d0a4f620-7f3c-4d46-fbdd-f2c4678745c9"
      },
      "source": [
        "wine_train['country'].value_counts().head(10).plot.bar()"
      ],
      "execution_count": 119,
      "outputs": [
        {
          "output_type": "execute_result",
          "data": {
            "text/plain": [
              "<matplotlib.axes._subplots.AxesSubplot at 0x7fa6490f1518>"
            ]
          },
          "metadata": {
            "tags": []
          },
          "execution_count": 119
        },
        {
          "output_type": "display_data",
          "data": {
            "image/png": "[encoded data removed]",
            "text/plain": [
              "<Figure size 432x288 with 1 Axes>"
            ]
          },
          "metadata": {
            "tags": [],
            "needs_background": "light"
          }
        }
      ]
    },
    {
      "cell_type": "code",
      "metadata": {
        "id": "C4Y8G1wH45aI",
        "colab_type": "code",
        "colab": {
          "base_uri": "https://localhost:8080/",
          "height": 731
        },
        "outputId": "c63e0c9e-a004-426f-b6fc-d4b72452806b"
      },
      "source": [
        "wine_train.groupby('points').count()"
      ],
      "execution_count": 120,
      "outputs": [
        {
          "output_type": "execute_result",
          "data": {
            "text/html": [
              "<div>\n",
              "<style scoped>\n",
              "    .dataframe tbody tr th:only-of-type {\n",
              "        vertical-align: middle;\n",
              "    }\n",
              "\n",
              "    .dataframe tbody tr th {\n",
              "        vertical-align: top;\n",
              "    }\n",
              "\n",
              "    .dataframe thead th {\n",
              "        text-align: right;\n",
              "    }\n",
              "</style>\n",
              "<table border=\"1\" class=\"dataframe\">\n",
              "  <thead>\n",
              "    <tr style=\"text-align: right;\">\n",
              "      <th></th>\n",
              "      <th>user_name</th>\n",
              "      <th>country</th>\n",
              "      <th>review_title</th>\n",
              "      <th>review_description</th>\n",
              "      <th>designation</th>\n",
              "      <th>price</th>\n",
              "      <th>province</th>\n",
              "      <th>region_1</th>\n",
              "      <th>region_2</th>\n",
              "      <th>winery</th>\n",
              "      <th>variety</th>\n",
              "    </tr>\n",
              "    <tr>\n",
              "      <th>points</th>\n",
              "      <th></th>\n",
              "      <th></th>\n",
              "      <th></th>\n",
              "      <th></th>\n",
              "      <th></th>\n",
              "      <th></th>\n",
              "      <th></th>\n",
              "      <th></th>\n",
              "      <th></th>\n",
              "      <th></th>\n",
              "      <th></th>\n",
              "    </tr>\n",
              "  </thead>\n",
              "  <tbody>\n",
              "    <tr>\n",
              "      <th>80</th>\n",
              "      <td>167</td>\n",
              "      <td>254</td>\n",
              "      <td>254</td>\n",
              "      <td>254</td>\n",
              "      <td>164</td>\n",
              "      <td>254</td>\n",
              "      <td>254</td>\n",
              "      <td>212</td>\n",
              "      <td>94</td>\n",
              "      <td>254</td>\n",
              "      <td>254</td>\n",
              "    </tr>\n",
              "    <tr>\n",
              "      <th>81</th>\n",
              "      <td>260</td>\n",
              "      <td>433</td>\n",
              "      <td>433</td>\n",
              "      <td>433</td>\n",
              "      <td>246</td>\n",
              "      <td>428</td>\n",
              "      <td>433</td>\n",
              "      <td>358</td>\n",
              "      <td>204</td>\n",
              "      <td>433</td>\n",
              "      <td>433</td>\n",
              "    </tr>\n",
              "    <tr>\n",
              "      <th>82</th>\n",
              "      <td>609</td>\n",
              "      <td>1173</td>\n",
              "      <td>1174</td>\n",
              "      <td>1174</td>\n",
              "      <td>679</td>\n",
              "      <td>1140</td>\n",
              "      <td>1173</td>\n",
              "      <td>1005</td>\n",
              "      <td>672</td>\n",
              "      <td>1174</td>\n",
              "      <td>1174</td>\n",
              "    </tr>\n",
              "    <tr>\n",
              "      <th>83</th>\n",
              "      <td>1301</td>\n",
              "      <td>1918</td>\n",
              "      <td>1919</td>\n",
              "      <td>1919</td>\n",
              "      <td>1178</td>\n",
              "      <td>1840</td>\n",
              "      <td>1918</td>\n",
              "      <td>1590</td>\n",
              "      <td>807</td>\n",
              "      <td>1919</td>\n",
              "      <td>1919</td>\n",
              "    </tr>\n",
              "    <tr>\n",
              "      <th>84</th>\n",
              "      <td>2647</td>\n",
              "      <td>4043</td>\n",
              "      <td>4045</td>\n",
              "      <td>4045</td>\n",
              "      <td>2413</td>\n",
              "      <td>3803</td>\n",
              "      <td>4043</td>\n",
              "      <td>3340</td>\n",
              "      <td>1624</td>\n",
              "      <td>4045</td>\n",
              "      <td>4045</td>\n",
              "    </tr>\n",
              "    <tr>\n",
              "      <th>85</th>\n",
              "      <td>4122</td>\n",
              "      <td>5761</td>\n",
              "      <td>5762</td>\n",
              "      <td>5762</td>\n",
              "      <td>3603</td>\n",
              "      <td>5418</td>\n",
              "      <td>5761</td>\n",
              "      <td>4693</td>\n",
              "      <td>2290</td>\n",
              "      <td>5762</td>\n",
              "      <td>5762</td>\n",
              "    </tr>\n",
              "    <tr>\n",
              "      <th>86</th>\n",
              "      <td>5206</td>\n",
              "      <td>7116</td>\n",
              "      <td>7118</td>\n",
              "      <td>7118</td>\n",
              "      <td>4592</td>\n",
              "      <td>6660</td>\n",
              "      <td>7116</td>\n",
              "      <td>5861</td>\n",
              "      <td>2927</td>\n",
              "      <td>7118</td>\n",
              "      <td>7118</td>\n",
              "    </tr>\n",
              "    <tr>\n",
              "      <th>87</th>\n",
              "      <td>6841</td>\n",
              "      <td>9488</td>\n",
              "      <td>9490</td>\n",
              "      <td>9490</td>\n",
              "      <td>6284</td>\n",
              "      <td>8891</td>\n",
              "      <td>9488</td>\n",
              "      <td>8071</td>\n",
              "      <td>4024</td>\n",
              "      <td>9490</td>\n",
              "      <td>9490</td>\n",
              "    </tr>\n",
              "    <tr>\n",
              "      <th>88</th>\n",
              "      <td>7617</td>\n",
              "      <td>9582</td>\n",
              "      <td>9588</td>\n",
              "      <td>9588</td>\n",
              "      <td>6646</td>\n",
              "      <td>8952</td>\n",
              "      <td>9582</td>\n",
              "      <td>8186</td>\n",
              "      <td>4139</td>\n",
              "      <td>9588</td>\n",
              "      <td>9588</td>\n",
              "    </tr>\n",
              "    <tr>\n",
              "      <th>89</th>\n",
              "      <td>5685</td>\n",
              "      <td>6975</td>\n",
              "      <td>6984</td>\n",
              "      <td>6984</td>\n",
              "      <td>5132</td>\n",
              "      <td>6446</td>\n",
              "      <td>6975</td>\n",
              "      <td>5773</td>\n",
              "      <td>2606</td>\n",
              "      <td>6984</td>\n",
              "      <td>6984</td>\n",
              "    </tr>\n",
              "    <tr>\n",
              "      <th>90</th>\n",
              "      <td>7216</td>\n",
              "      <td>9120</td>\n",
              "      <td>9121</td>\n",
              "      <td>9121</td>\n",
              "      <td>6775</td>\n",
              "      <td>8500</td>\n",
              "      <td>9120</td>\n",
              "      <td>7659</td>\n",
              "      <td>4115</td>\n",
              "      <td>9121</td>\n",
              "      <td>9121</td>\n",
              "    </tr>\n",
              "    <tr>\n",
              "      <th>91</th>\n",
              "      <td>5780</td>\n",
              "      <td>7004</td>\n",
              "      <td>7009</td>\n",
              "      <td>7009</td>\n",
              "      <td>5491</td>\n",
              "      <td>6516</td>\n",
              "      <td>7004</td>\n",
              "      <td>6001</td>\n",
              "      <td>3345</td>\n",
              "      <td>7009</td>\n",
              "      <td>7009</td>\n",
              "    </tr>\n",
              "    <tr>\n",
              "      <th>92</th>\n",
              "      <td>4784</td>\n",
              "      <td>6060</td>\n",
              "      <td>6063</td>\n",
              "      <td>6063</td>\n",
              "      <td>5028</td>\n",
              "      <td>5568</td>\n",
              "      <td>6060</td>\n",
              "      <td>5253</td>\n",
              "      <td>2922</td>\n",
              "      <td>6063</td>\n",
              "      <td>6063</td>\n",
              "    </tr>\n",
              "    <tr>\n",
              "      <th>93</th>\n",
              "      <td>3518</td>\n",
              "      <td>4335</td>\n",
              "      <td>4335</td>\n",
              "      <td>4335</td>\n",
              "      <td>3674</td>\n",
              "      <td>3956</td>\n",
              "      <td>4335</td>\n",
              "      <td>3817</td>\n",
              "      <td>2068</td>\n",
              "      <td>4335</td>\n",
              "      <td>4335</td>\n",
              "    </tr>\n",
              "    <tr>\n",
              "      <th>94</th>\n",
              "      <td>2052</td>\n",
              "      <td>2621</td>\n",
              "      <td>2621</td>\n",
              "      <td>2621</td>\n",
              "      <td>2206</td>\n",
              "      <td>2410</td>\n",
              "      <td>2621</td>\n",
              "      <td>2317</td>\n",
              "      <td>1252</td>\n",
              "      <td>2621</td>\n",
              "      <td>2621</td>\n",
              "    </tr>\n",
              "    <tr>\n",
              "      <th>95</th>\n",
              "      <td>837</td>\n",
              "      <td>1080</td>\n",
              "      <td>1080</td>\n",
              "      <td>1080</td>\n",
              "      <td>861</td>\n",
              "      <td>988</td>\n",
              "      <td>1080</td>\n",
              "      <td>954</td>\n",
              "      <td>457</td>\n",
              "      <td>1080</td>\n",
              "      <td>1080</td>\n",
              "    </tr>\n",
              "    <tr>\n",
              "      <th>96</th>\n",
              "      <td>285</td>\n",
              "      <td>381</td>\n",
              "      <td>381</td>\n",
              "      <td>381</td>\n",
              "      <td>299</td>\n",
              "      <td>352</td>\n",
              "      <td>381</td>\n",
              "      <td>341</td>\n",
              "      <td>159</td>\n",
              "      <td>381</td>\n",
              "      <td>381</td>\n",
              "    </tr>\n",
              "    <tr>\n",
              "      <th>97</th>\n",
              "      <td>108</td>\n",
              "      <td>165</td>\n",
              "      <td>165</td>\n",
              "      <td>165</td>\n",
              "      <td>120</td>\n",
              "      <td>146</td>\n",
              "      <td>165</td>\n",
              "      <td>153</td>\n",
              "      <td>68</td>\n",
              "      <td>165</td>\n",
              "      <td>165</td>\n",
              "    </tr>\n",
              "    <tr>\n",
              "      <th>98</th>\n",
              "      <td>35</td>\n",
              "      <td>49</td>\n",
              "      <td>49</td>\n",
              "      <td>49</td>\n",
              "      <td>32</td>\n",
              "      <td>44</td>\n",
              "      <td>49</td>\n",
              "      <td>48</td>\n",
              "      <td>25</td>\n",
              "      <td>49</td>\n",
              "      <td>49</td>\n",
              "    </tr>\n",
              "    <tr>\n",
              "      <th>99</th>\n",
              "      <td>15</td>\n",
              "      <td>25</td>\n",
              "      <td>25</td>\n",
              "      <td>25</td>\n",
              "      <td>22</td>\n",
              "      <td>20</td>\n",
              "      <td>25</td>\n",
              "      <td>24</td>\n",
              "      <td>10</td>\n",
              "      <td>25</td>\n",
              "      <td>25</td>\n",
              "    </tr>\n",
              "    <tr>\n",
              "      <th>100</th>\n",
              "      <td>10</td>\n",
              "      <td>12</td>\n",
              "      <td>12</td>\n",
              "      <td>12</td>\n",
              "      <td>6</td>\n",
              "      <td>12</td>\n",
              "      <td>12</td>\n",
              "      <td>11</td>\n",
              "      <td>2</td>\n",
              "      <td>12</td>\n",
              "      <td>12</td>\n",
              "    </tr>\n",
              "  </tbody>\n",
              "</table>\n",
              "</div>"
            ],
            "text/plain": [
              "        user_name  country  review_title  ...  region_2  winery  variety\n",
              "points                                    ...                           \n",
              "80            167      254           254  ...        94     254      254\n",
              "81            260      433           433  ...       204     433      433\n",
              "82            609     1173          1174  ...       672    1174     1174\n",
              "83           1301     1918          1919  ...       807    1919     1919\n",
              "84           2647     4043          4045  ...      1624    4045     4045\n",
              "85           4122     5761          5762  ...      2290    5762     5762\n",
              "86           5206     7116          7118  ...      2927    7118     7118\n",
              "87           6841     9488          9490  ...      4024    9490     9490\n",
              "88           7617     9582          9588  ...      4139    9588     9588\n",
              "89           5685     6975          6984  ...      2606    6984     6984\n",
              "90           7216     9120          9121  ...      4115    9121     9121\n",
              "91           5780     7004          7009  ...      3345    7009     7009\n",
              "92           4784     6060          6063  ...      2922    6063     6063\n",
              "93           3518     4335          4335  ...      2068    4335     4335\n",
              "94           2052     2621          2621  ...      1252    2621     2621\n",
              "95            837     1080          1080  ...       457    1080     1080\n",
              "96            285      381           381  ...       159     381      381\n",
              "97            108      165           165  ...        68     165      165\n",
              "98             35       49            49  ...        25      49       49\n",
              "99             15       25            25  ...        10      25       25\n",
              "100            10       12            12  ...         2      12       12\n",
              "\n",
              "[21 rows x 11 columns]"
            ]
          },
          "metadata": {
            "tags": []
          },
          "execution_count": 120
        }
      ]
    },
    {
      "cell_type": "code",
      "metadata": {
        "id": "sM-Aqxgh5FYn",
        "colab_type": "code",
        "colab": {
          "base_uri": "https://localhost:8080/",
          "height": 829
        },
        "outputId": "bd029132-d9fd-462f-8991-5523ce0a6609"
      },
      "source": [
        "wine_train[wine_train.points==100]"
      ],
      "execution_count": 121,
      "outputs": [
        {
          "output_type": "execute_result",
          "data": {
            "text/html": [
              "<div>\n",
              "<style scoped>\n",
              "    .dataframe tbody tr th:only-of-type {\n",
              "        vertical-align: middle;\n",
              "    }\n",
              "\n",
              "    .dataframe tbody tr th {\n",
              "        vertical-align: top;\n",
              "    }\n",
              "\n",
              "    .dataframe thead th {\n",
              "        text-align: right;\n",
              "    }\n",
              "</style>\n",
              "<table border=\"1\" class=\"dataframe\">\n",
              "  <thead>\n",
              "    <tr style=\"text-align: right;\">\n",
              "      <th></th>\n",
              "      <th>user_name</th>\n",
              "      <th>country</th>\n",
              "      <th>review_title</th>\n",
              "      <th>review_description</th>\n",
              "      <th>designation</th>\n",
              "      <th>points</th>\n",
              "      <th>price</th>\n",
              "      <th>province</th>\n",
              "      <th>region_1</th>\n",
              "      <th>region_2</th>\n",
              "      <th>winery</th>\n",
              "      <th>variety</th>\n",
              "    </tr>\n",
              "  </thead>\n",
              "  <tbody>\n",
              "    <tr>\n",
              "      <th>2897</th>\n",
              "      <td>@paulgwine</td>\n",
              "      <td>US</td>\n",
              "      <td>Cayuse 2008 Bionic Frog Syrah (Walla Walla Val...</td>\n",
              "      <td>Initially a rather subdued Frog; as if it has ...</td>\n",
              "      <td>Bionic Frog</td>\n",
              "      <td>100</td>\n",
              "      <td>80.0</td>\n",
              "      <td>Washington</td>\n",
              "      <td>Walla Walla Valley (WA)</td>\n",
              "      <td>Columbia Valley</td>\n",
              "      <td>Cayuse</td>\n",
              "      <td>Syrah</td>\n",
              "    </tr>\n",
              "    <tr>\n",
              "      <th>3221</th>\n",
              "      <td>@vossroger</td>\n",
              "      <td>France</td>\n",
              "      <td>Château Lafite Rothschild 2010  Pauillac</td>\n",
              "      <td>Almost black in color, this stunning wine is g...</td>\n",
              "      <td>NaN</td>\n",
              "      <td>100</td>\n",
              "      <td>1500.0</td>\n",
              "      <td>Bordeaux</td>\n",
              "      <td>Pauillac</td>\n",
              "      <td>NaN</td>\n",
              "      <td>Château Lafite Rothschild</td>\n",
              "      <td>Bordeaux-style Red Blend</td>\n",
              "    </tr>\n",
              "    <tr>\n",
              "      <th>11704</th>\n",
              "      <td>NaN</td>\n",
              "      <td>Italy</td>\n",
              "      <td>Tenuta dell'Ornellaia 2007 Masseto Merlot (Tos...</td>\n",
              "      <td>A perfect wine from a classic vintage, the 200...</td>\n",
              "      <td>Masseto</td>\n",
              "      <td>100</td>\n",
              "      <td>460.0</td>\n",
              "      <td>Tuscany</td>\n",
              "      <td>Toscana</td>\n",
              "      <td>NaN</td>\n",
              "      <td>Tenuta dell'Ornellaia</td>\n",
              "      <td>Merlot</td>\n",
              "    </tr>\n",
              "    <tr>\n",
              "      <th>19993</th>\n",
              "      <td>@vossroger</td>\n",
              "      <td>France</td>\n",
              "      <td>Château Cheval Blanc 2010  Saint-Émilion</td>\n",
              "      <td>This is the finest Cheval Blanc for many years...</td>\n",
              "      <td>NaN</td>\n",
              "      <td>100</td>\n",
              "      <td>1500.0</td>\n",
              "      <td>Bordeaux</td>\n",
              "      <td>Saint-Émilion</td>\n",
              "      <td>NaN</td>\n",
              "      <td>Château Cheval Blanc</td>\n",
              "      <td>Bordeaux-style Red Blend</td>\n",
              "    </tr>\n",
              "    <tr>\n",
              "      <th>20182</th>\n",
              "      <td>@vossroger</td>\n",
              "      <td>France</td>\n",
              "      <td>Château Haut-Brion 2014  Pessac-Léognan</td>\n",
              "      <td>Full of ripe fruit, opulent and concentrated, ...</td>\n",
              "      <td>NaN</td>\n",
              "      <td>100</td>\n",
              "      <td>848.0</td>\n",
              "      <td>Bordeaux</td>\n",
              "      <td>Pessac-Léognan</td>\n",
              "      <td>NaN</td>\n",
              "      <td>Château Haut-Brion</td>\n",
              "      <td>Bordeaux-style White Blend</td>\n",
              "    </tr>\n",
              "    <tr>\n",
              "      <th>27179</th>\n",
              "      <td>@vossroger</td>\n",
              "      <td>France</td>\n",
              "      <td>Château Léoville Barton 2010  Saint-Julien</td>\n",
              "      <td>This is a magnificently solid wine, initially ...</td>\n",
              "      <td>NaN</td>\n",
              "      <td>100</td>\n",
              "      <td>150.0</td>\n",
              "      <td>Bordeaux</td>\n",
              "      <td>Saint-Julien</td>\n",
              "      <td>NaN</td>\n",
              "      <td>Château Léoville Barton</td>\n",
              "      <td>Bordeaux-style Red Blend</td>\n",
              "    </tr>\n",
              "    <tr>\n",
              "      <th>31572</th>\n",
              "      <td>@kerinokeefe</td>\n",
              "      <td>Italy</td>\n",
              "      <td>Biondi Santi 2010 Riserva  (Brunello di Montal...</td>\n",
              "      <td>This gorgeous, fragrant wine opens with classi...</td>\n",
              "      <td>Riserva</td>\n",
              "      <td>100</td>\n",
              "      <td>550.0</td>\n",
              "      <td>Tuscany</td>\n",
              "      <td>Brunello di Montalcino</td>\n",
              "      <td>NaN</td>\n",
              "      <td>Biondi Santi</td>\n",
              "      <td>Sangiovese</td>\n",
              "    </tr>\n",
              "    <tr>\n",
              "      <th>35492</th>\n",
              "      <td>@vossroger</td>\n",
              "      <td>France</td>\n",
              "      <td>Château Léoville Las Cases 2010  Saint-Julien</td>\n",
              "      <td>A hugely powerful wine, full of dark, brooding...</td>\n",
              "      <td>NaN</td>\n",
              "      <td>100</td>\n",
              "      <td>359.0</td>\n",
              "      <td>Bordeaux</td>\n",
              "      <td>Saint-Julien</td>\n",
              "      <td>NaN</td>\n",
              "      <td>Château Léoville Las Cases</td>\n",
              "      <td>Bordeaux-style Red Blend</td>\n",
              "    </tr>\n",
              "    <tr>\n",
              "      <th>41362</th>\n",
              "      <td>NaN</td>\n",
              "      <td>US</td>\n",
              "      <td>Cardinale 2006 Cabernet Sauvignon (Napa Valley)</td>\n",
              "      <td>Tasted in a flight of great and famous Napa wi...</td>\n",
              "      <td>NaN</td>\n",
              "      <td>100</td>\n",
              "      <td>200.0</td>\n",
              "      <td>California</td>\n",
              "      <td>Napa Valley</td>\n",
              "      <td>Napa</td>\n",
              "      <td>Cardinale</td>\n",
              "      <td>Cabernet Sauvignon</td>\n",
              "    </tr>\n",
              "    <tr>\n",
              "      <th>46864</th>\n",
              "      <td>@vossroger</td>\n",
              "      <td>France</td>\n",
              "      <td>Salon 2006 Le Mesnil Blanc de Blancs Brut Char...</td>\n",
              "      <td>This new release from a great vintage for Char...</td>\n",
              "      <td>Le Mesnil Blanc de Blancs Brut</td>\n",
              "      <td>100</td>\n",
              "      <td>617.0</td>\n",
              "      <td>Champagne</td>\n",
              "      <td>Champagne</td>\n",
              "      <td>NaN</td>\n",
              "      <td>Salon</td>\n",
              "      <td>Chardonnay</td>\n",
              "    </tr>\n",
              "    <tr>\n",
              "      <th>65504</th>\n",
              "      <td>@vossroger</td>\n",
              "      <td>Portugal</td>\n",
              "      <td>Casa Ferreirinha 2008 Barca-Velha Red (Douro)</td>\n",
              "      <td>This is the latest release of what has long be...</td>\n",
              "      <td>Barca-Velha</td>\n",
              "      <td>100</td>\n",
              "      <td>450.0</td>\n",
              "      <td>Douro</td>\n",
              "      <td>NaN</td>\n",
              "      <td>NaN</td>\n",
              "      <td>Casa Ferreirinha</td>\n",
              "      <td>Portuguese Red</td>\n",
              "    </tr>\n",
              "    <tr>\n",
              "      <th>71568</th>\n",
              "      <td>@vossroger</td>\n",
              "      <td>France</td>\n",
              "      <td>Louis Roederer 2008 Cristal Vintage Brut  (Cha...</td>\n",
              "      <td>This latest incarnation of the famous brand is...</td>\n",
              "      <td>Cristal Vintage Brut</td>\n",
              "      <td>100</td>\n",
              "      <td>250.0</td>\n",
              "      <td>Champagne</td>\n",
              "      <td>Champagne</td>\n",
              "      <td>NaN</td>\n",
              "      <td>Louis Roederer</td>\n",
              "      <td>Champagne Blend</td>\n",
              "    </tr>\n",
              "  </tbody>\n",
              "</table>\n",
              "</div>"
            ],
            "text/plain": [
              "          user_name  ...                     variety\n",
              "2897    @paulgwine   ...                       Syrah\n",
              "3221     @vossroger  ...    Bordeaux-style Red Blend\n",
              "11704           NaN  ...                      Merlot\n",
              "19993    @vossroger  ...    Bordeaux-style Red Blend\n",
              "20182    @vossroger  ...  Bordeaux-style White Blend\n",
              "27179    @vossroger  ...    Bordeaux-style Red Blend\n",
              "31572  @kerinokeefe  ...                  Sangiovese\n",
              "35492    @vossroger  ...    Bordeaux-style Red Blend\n",
              "41362           NaN  ...          Cabernet Sauvignon\n",
              "46864    @vossroger  ...                  Chardonnay\n",
              "65504    @vossroger  ...              Portuguese Red\n",
              "71568    @vossroger  ...             Champagne Blend\n",
              "\n",
              "[12 rows x 12 columns]"
            ]
          },
          "metadata": {
            "tags": []
          },
          "execution_count": 121
        }
      ]
    },
    {
      "cell_type": "code",
      "metadata": {
        "id": "wrMnsuVg5QEq",
        "colab_type": "code",
        "colab": {
          "base_uri": "https://localhost:8080/",
          "height": 68
        },
        "outputId": "c78ceaab-c7ab-4aac-9014-c78b0b08b161"
      },
      "source": [
        "wine_train['price'].isna().value_counts()"
      ],
      "execution_count": 122,
      "outputs": [
        {
          "output_type": "execute_result",
          "data": {
            "text/plain": [
              "False    72344\n",
              "True      5284\n",
              "Name: price, dtype: int64"
            ]
          },
          "metadata": {
            "tags": []
          },
          "execution_count": 122
        }
      ]
    },
    {
      "cell_type": "code",
      "metadata": {
        "id": "nCj-vTSf7XAD",
        "colab_type": "code",
        "colab": {}
      },
      "source": [
        "wine_train.dropna(subset=['price'],inplace=True)"
      ],
      "execution_count": 0,
      "outputs": []
    },
    {
      "cell_type": "code",
      "metadata": {
        "id": "UdOzqcOq8DI8",
        "colab_type": "code",
        "colab": {
          "base_uri": "https://localhost:8080/",
          "height": 34
        },
        "outputId": "fc8e6c18-dbe5-43c4-928b-24dfe0000631"
      },
      "source": [
        "wine_train.shape"
      ],
      "execution_count": 124,
      "outputs": [
        {
          "output_type": "execute_result",
          "data": {
            "text/plain": [
              "(72344, 12)"
            ]
          },
          "metadata": {
            "tags": []
          },
          "execution_count": 124
        }
      ]
    },
    {
      "cell_type": "markdown",
      "metadata": {
        "id": "qMkRJnezZPpb",
        "colab_type": "text"
      },
      "source": [
        "### Cleanin the description"
      ]
    },
    {
      "cell_type": "code",
      "metadata": {
        "id": "sds7ZZsncY8R",
        "colab_type": "code",
        "colab": {}
      },
      "source": [
        "X = wine_train.drop(['user_name','country','review_title','points','province','region_1','region_2','variety','winery','designation'], axis = 1)\n",
        "y = wine_train.variety"
      ],
      "execution_count": 0,
      "outputs": []
    },
    {
      "cell_type": "code",
      "metadata": {
        "id": "v3prI9beYEaa",
        "colab_type": "code",
        "colab": {}
      },
      "source": [
        "from sklearn.model_selection import train_test_split"
      ],
      "execution_count": 0,
      "outputs": []
    },
    {
      "cell_type": "code",
      "metadata": {
        "id": "oLw4uWijaWeL",
        "colab_type": "code",
        "colab": {}
      },
      "source": [
        "X_train, X_test, y_train, y_test = train_test_split(  X, y, random_state=42, stratify=y)"
      ],
      "execution_count": 0,
      "outputs": []
    },
    {
      "cell_type": "code",
      "metadata": {
        "id": "-19EuwmmP21c",
        "colab_type": "code",
        "colab": {}
      },
      "source": [
        "import re\n",
        "from nltk.corpus import stopwords"
      ],
      "execution_count": 0,
      "outputs": []
    },
    {
      "cell_type": "code",
      "metadata": {
        "id": "AGk8rm1MSnjw",
        "colab_type": "code",
        "colab": {
          "base_uri": "https://localhost:8080/",
          "height": 68
        },
        "outputId": "ed9c6b15-0ccd-49d8-c907-b8f943dc4778"
      },
      "source": [
        "import nltk\n",
        "nltk.download('stopwords')"
      ],
      "execution_count": 86,
      "outputs": [
        {
          "output_type": "stream",
          "text": [
            "[nltk_data] Downloading package stopwords to /root/nltk_data...\n",
            "[nltk_data]   Package stopwords is already up-to-date!\n"
          ],
          "name": "stdout"
        },
        {
          "output_type": "execute_result",
          "data": {
            "text/plain": [
              "True"
            ]
          },
          "metadata": {
            "tags": []
          },
          "execution_count": 86
        }
      ]
    },
    {
      "cell_type": "code",
      "metadata": {
        "id": "ajC-msAxQE_c",
        "colab_type": "code",
        "colab": {}
      },
      "source": [
        "from sklearn.feature_extraction.text import CountVectorizer"
      ],
      "execution_count": 0,
      "outputs": []
    },
    {
      "cell_type": "code",
      "metadata": {
        "id": "R8VMz2CORGXq",
        "colab_type": "code",
        "colab": {
          "base_uri": "https://localhost:8080/",
          "height": 187
        },
        "outputId": "070af253-3d13-467e-a5c7-e049115933b2"
      },
      "source": [
        "wine =wine_train.variety.unique().tolist()\n",
        "wine.sort()\n",
        "wine[:10]"
      ],
      "execution_count": 88,
      "outputs": [
        {
          "output_type": "execute_result",
          "data": {
            "text/plain": [
              "['Bordeaux-style Red Blend',\n",
              " 'Bordeaux-style White Blend',\n",
              " 'Cabernet Franc',\n",
              " 'Cabernet Sauvignon',\n",
              " 'Champagne Blend',\n",
              " 'Chardonnay',\n",
              " 'Gamay',\n",
              " 'Gewürztraminer',\n",
              " 'Grüner Veltliner',\n",
              " 'Malbec']"
            ]
          },
          "metadata": {
            "tags": []
          },
          "execution_count": 88
        }
      ]
    },
    {
      "cell_type": "code",
      "metadata": {
        "id": "dsB6e-wnRx7T",
        "colab_type": "code",
        "colab": {
          "base_uri": "https://localhost:8080/",
          "height": 187
        },
        "outputId": "85f3af7d-1538-444f-898b-f8cb3f207b81"
      },
      "source": [
        "output = set()\n",
        "for x in wine_train.variety:\n",
        "    x = x.lower()\n",
        "    x = x.split()\n",
        "    for y in x:\n",
        "        output.add(y)\n",
        "\n",
        "variety_list =sorted(output)\n",
        "variety_list[:10]"
      ],
      "execution_count": 89,
      "outputs": [
        {
          "output_type": "execute_result",
          "data": {
            "text/plain": [
              "['blanc',\n",
              " 'blend',\n",
              " 'bordeaux-style',\n",
              " 'cabernet',\n",
              " 'champagne',\n",
              " 'chardonnay',\n",
              " 'franc',\n",
              " 'gamay',\n",
              " 'gewürztraminer',\n",
              " 'grigio']"
            ]
          },
          "metadata": {
            "tags": []
          },
          "execution_count": 89
        }
      ]
    },
    {
      "cell_type": "code",
      "metadata": {
        "id": "YakSvJjZSEtR",
        "colab_type": "code",
        "colab": {}
      },
      "source": [
        "extras = ['.', ',', '\"', \"'\", '?', '!', ':', ';', '(', ')', '[', ']', '{', '}', 'cab',\"%\"]\n",
        "\n",
        "stop = set(stopwords.words('english'))\n",
        "stop.update(variety_list)\n",
        "stop.update(extras)\n"
      ],
      "execution_count": 0,
      "outputs": []
    },
    {
      "cell_type": "code",
      "metadata": {
        "id": "TBZYGTgNTdGl",
        "colab_type": "code",
        "colab": {}
      },
      "source": [
        "from sklearn.feature_extraction.text import CountVectorizer \n",
        "from scipy.sparse import hstack"
      ],
      "execution_count": 0,
      "outputs": []
    },
    {
      "cell_type": "code",
      "metadata": {
        "id": "JBXQu7TCSSE7",
        "colab_type": "code",
        "colab": {
          "base_uri": "https://localhost:8080/",
          "height": 105
        },
        "outputId": "96af69e4-164a-4435-9418-a6cfb4877ccb"
      },
      "source": [
        "vect = CountVectorizer(stop_words = stop)\n",
        "X_train_clean = vect.fit_transform(X_train.review_description)\n",
        "price = X_train.price.values[:,None]\n",
        "X_train_clean = hstack((X_train_clean, price))\n",
        "X_train_clean"
      ],
      "execution_count": 135,
      "outputs": [
        {
          "output_type": "stream",
          "text": [
            "/usr/local/lib/python3.6/dist-packages/sklearn/feature_extraction/text.py:385: UserWarning: Your stop_words may be inconsistent with your preprocessing. Tokenizing the stop words generated tokens ['bordeaux', 'rhône', 'style'] not in stop_words.\n",
            "  'stop_words.' % sorted(inconsistent))\n"
          ],
          "name": "stderr"
        },
        {
          "output_type": "execute_result",
          "data": {
            "text/plain": [
              "<54258x22516 sparse matrix of type '<class 'numpy.float64'>'\n",
              "\twith 1356627 stored elements in COOrdinate format>"
            ]
          },
          "metadata": {
            "tags": []
          },
          "execution_count": 135
        }
      ]
    },
    {
      "cell_type": "code",
      "metadata": {
        "id": "kK7oM7u0ahD1",
        "colab_type": "code",
        "colab": {
          "base_uri": "https://localhost:8080/",
          "height": 51
        },
        "outputId": "a926224f-e097-4b57-c6d2-15e365a45192"
      },
      "source": [
        "X_test_clean = vect.transform(X_test.review_description)\n",
        "price_test = X_test.price.values[:,None]\n",
        "X_test_clean = hstack((X_test_clean, price_test))\n",
        "X_test_clean"
      ],
      "execution_count": 137,
      "outputs": [
        {
          "output_type": "execute_result",
          "data": {
            "text/plain": [
              "<18086x22516 sparse matrix of type '<class 'numpy.float64'>'\n",
              "\twith 448694 stored elements in COOrdinate format>"
            ]
          },
          "metadata": {
            "tags": []
          },
          "execution_count": 137
        }
      ]
    },
    {
      "cell_type": "code",
      "metadata": {
        "id": "dPWQZ193fP9T",
        "colab_type": "code",
        "colab": {
          "base_uri": "https://localhost:8080/",
          "height": 1000
        },
        "outputId": "3da6b8de-e91b-4804-eb6b-08fe25e7c9c0"
      },
      "source": [
        "from sklearn.linear_model import LogisticRegression\n",
        "models = {}\n",
        "for z in wine:\n",
        "    model = LogisticRegression()\n",
        "    y = y_train == z\n",
        "    model.fit(X_train_clean, y)\n",
        "    models[z] = model\n",
        "\n",
        "testing_probs = pd.DataFrame(columns = wine)\n"
      ],
      "execution_count": 138,
      "outputs": [
        {
          "output_type": "stream",
          "text": [
            "/usr/local/lib/python3.6/dist-packages/sklearn/linear_model/_logistic.py:940: ConvergenceWarning: lbfgs failed to converge (status=1):\n",
            "STOP: TOTAL NO. of ITERATIONS REACHED LIMIT.\n",
            "\n",
            "Increase the number of iterations (max_iter) or scale the data as shown in:\n",
            "    https://scikit-learn.org/stable/modules/preprocessing.html\n",
            "Please also refer to the documentation for alternative solver options:\n",
            "    https://scikit-learn.org/stable/modules/linear_model.html#logistic-regression\n",
            "  extra_warning_msg=_LOGISTIC_SOLVER_CONVERGENCE_MSG)\n",
            "/usr/local/lib/python3.6/dist-packages/sklearn/linear_model/_logistic.py:940: ConvergenceWarning: lbfgs failed to converge (status=1):\n",
            "STOP: TOTAL NO. of ITERATIONS REACHED LIMIT.\n",
            "\n",
            "Increase the number of iterations (max_iter) or scale the data as shown in:\n",
            "    https://scikit-learn.org/stable/modules/preprocessing.html\n",
            "Please also refer to the documentation for alternative solver options:\n",
            "    https://scikit-learn.org/stable/modules/linear_model.html#logistic-regression\n",
            "  extra_warning_msg=_LOGISTIC_SOLVER_CONVERGENCE_MSG)\n",
            "/usr/local/lib/python3.6/dist-packages/sklearn/linear_model/_logistic.py:940: ConvergenceWarning: lbfgs failed to converge (status=1):\n",
            "STOP: TOTAL NO. of ITERATIONS REACHED LIMIT.\n",
            "\n",
            "Increase the number of iterations (max_iter) or scale the data as shown in:\n",
            "    https://scikit-learn.org/stable/modules/preprocessing.html\n",
            "Please also refer to the documentation for alternative solver options:\n",
            "    https://scikit-learn.org/stable/modules/linear_model.html#logistic-regression\n",
            "  extra_warning_msg=_LOGISTIC_SOLVER_CONVERGENCE_MSG)\n",
            "/usr/local/lib/python3.6/dist-packages/sklearn/linear_model/_logistic.py:940: ConvergenceWarning: lbfgs failed to converge (status=1):\n",
            "STOP: TOTAL NO. of ITERATIONS REACHED LIMIT.\n",
            "\n",
            "Increase the number of iterations (max_iter) or scale the data as shown in:\n",
            "    https://scikit-learn.org/stable/modules/preprocessing.html\n",
            "Please also refer to the documentation for alternative solver options:\n",
            "    https://scikit-learn.org/stable/modules/linear_model.html#logistic-regression\n",
            "  extra_warning_msg=_LOGISTIC_SOLVER_CONVERGENCE_MSG)\n",
            "/usr/local/lib/python3.6/dist-packages/sklearn/linear_model/_logistic.py:940: ConvergenceWarning: lbfgs failed to converge (status=1):\n",
            "STOP: TOTAL NO. of ITERATIONS REACHED LIMIT.\n",
            "\n",
            "Increase the number of iterations (max_iter) or scale the data as shown in:\n",
            "    https://scikit-learn.org/stable/modules/preprocessing.html\n",
            "Please also refer to the documentation for alternative solver options:\n",
            "    https://scikit-learn.org/stable/modules/linear_model.html#logistic-regression\n",
            "  extra_warning_msg=_LOGISTIC_SOLVER_CONVERGENCE_MSG)\n",
            "/usr/local/lib/python3.6/dist-packages/sklearn/linear_model/_logistic.py:940: ConvergenceWarning: lbfgs failed to converge (status=1):\n",
            "STOP: TOTAL NO. of ITERATIONS REACHED LIMIT.\n",
            "\n",
            "Increase the number of iterations (max_iter) or scale the data as shown in:\n",
            "    https://scikit-learn.org/stable/modules/preprocessing.html\n",
            "Please also refer to the documentation for alternative solver options:\n",
            "    https://scikit-learn.org/stable/modules/linear_model.html#logistic-regression\n",
            "  extra_warning_msg=_LOGISTIC_SOLVER_CONVERGENCE_MSG)\n",
            "/usr/local/lib/python3.6/dist-packages/sklearn/linear_model/_logistic.py:940: ConvergenceWarning: lbfgs failed to converge (status=1):\n",
            "STOP: TOTAL NO. of ITERATIONS REACHED LIMIT.\n",
            "\n",
            "Increase the number of iterations (max_iter) or scale the data as shown in:\n",
            "    https://scikit-learn.org/stable/modules/preprocessing.html\n",
            "Please also refer to the documentation for alternative solver options:\n",
            "    https://scikit-learn.org/stable/modules/linear_model.html#logistic-regression\n",
            "  extra_warning_msg=_LOGISTIC_SOLVER_CONVERGENCE_MSG)\n",
            "/usr/local/lib/python3.6/dist-packages/sklearn/linear_model/_logistic.py:940: ConvergenceWarning: lbfgs failed to converge (status=1):\n",
            "STOP: TOTAL NO. of ITERATIONS REACHED LIMIT.\n",
            "\n",
            "Increase the number of iterations (max_iter) or scale the data as shown in:\n",
            "    https://scikit-learn.org/stable/modules/preprocessing.html\n",
            "Please also refer to the documentation for alternative solver options:\n",
            "    https://scikit-learn.org/stable/modules/linear_model.html#logistic-regression\n",
            "  extra_warning_msg=_LOGISTIC_SOLVER_CONVERGENCE_MSG)\n",
            "/usr/local/lib/python3.6/dist-packages/sklearn/linear_model/_logistic.py:940: ConvergenceWarning: lbfgs failed to converge (status=1):\n",
            "STOP: TOTAL NO. of ITERATIONS REACHED LIMIT.\n",
            "\n",
            "Increase the number of iterations (max_iter) or scale the data as shown in:\n",
            "    https://scikit-learn.org/stable/modules/preprocessing.html\n",
            "Please also refer to the documentation for alternative solver options:\n",
            "    https://scikit-learn.org/stable/modules/linear_model.html#logistic-regression\n",
            "  extra_warning_msg=_LOGISTIC_SOLVER_CONVERGENCE_MSG)\n",
            "/usr/local/lib/python3.6/dist-packages/sklearn/linear_model/_logistic.py:940: ConvergenceWarning: lbfgs failed to converge (status=1):\n",
            "STOP: TOTAL NO. of ITERATIONS REACHED LIMIT.\n",
            "\n",
            "Increase the number of iterations (max_iter) or scale the data as shown in:\n",
            "    https://scikit-learn.org/stable/modules/preprocessing.html\n",
            "Please also refer to the documentation for alternative solver options:\n",
            "    https://scikit-learn.org/stable/modules/linear_model.html#logistic-regression\n",
            "  extra_warning_msg=_LOGISTIC_SOLVER_CONVERGENCE_MSG)\n",
            "/usr/local/lib/python3.6/dist-packages/sklearn/linear_model/_logistic.py:940: ConvergenceWarning: lbfgs failed to converge (status=1):\n",
            "STOP: TOTAL NO. of ITERATIONS REACHED LIMIT.\n",
            "\n",
            "Increase the number of iterations (max_iter) or scale the data as shown in:\n",
            "    https://scikit-learn.org/stable/modules/preprocessing.html\n",
            "Please also refer to the documentation for alternative solver options:\n",
            "    https://scikit-learn.org/stable/modules/linear_model.html#logistic-regression\n",
            "  extra_warning_msg=_LOGISTIC_SOLVER_CONVERGENCE_MSG)\n",
            "/usr/local/lib/python3.6/dist-packages/sklearn/linear_model/_logistic.py:940: ConvergenceWarning: lbfgs failed to converge (status=1):\n",
            "STOP: TOTAL NO. of ITERATIONS REACHED LIMIT.\n",
            "\n",
            "Increase the number of iterations (max_iter) or scale the data as shown in:\n",
            "    https://scikit-learn.org/stable/modules/preprocessing.html\n",
            "Please also refer to the documentation for alternative solver options:\n",
            "    https://scikit-learn.org/stable/modules/linear_model.html#logistic-regression\n",
            "  extra_warning_msg=_LOGISTIC_SOLVER_CONVERGENCE_MSG)\n",
            "/usr/local/lib/python3.6/dist-packages/sklearn/linear_model/_logistic.py:940: ConvergenceWarning: lbfgs failed to converge (status=1):\n",
            "STOP: TOTAL NO. of ITERATIONS REACHED LIMIT.\n",
            "\n",
            "Increase the number of iterations (max_iter) or scale the data as shown in:\n",
            "    https://scikit-learn.org/stable/modules/preprocessing.html\n",
            "Please also refer to the documentation for alternative solver options:\n",
            "    https://scikit-learn.org/stable/modules/linear_model.html#logistic-regression\n",
            "  extra_warning_msg=_LOGISTIC_SOLVER_CONVERGENCE_MSG)\n",
            "/usr/local/lib/python3.6/dist-packages/sklearn/linear_model/_logistic.py:940: ConvergenceWarning: lbfgs failed to converge (status=1):\n",
            "STOP: TOTAL NO. of ITERATIONS REACHED LIMIT.\n",
            "\n",
            "Increase the number of iterations (max_iter) or scale the data as shown in:\n",
            "    https://scikit-learn.org/stable/modules/preprocessing.html\n",
            "Please also refer to the documentation for alternative solver options:\n",
            "    https://scikit-learn.org/stable/modules/linear_model.html#logistic-regression\n",
            "  extra_warning_msg=_LOGISTIC_SOLVER_CONVERGENCE_MSG)\n",
            "/usr/local/lib/python3.6/dist-packages/sklearn/linear_model/_logistic.py:940: ConvergenceWarning: lbfgs failed to converge (status=1):\n",
            "STOP: TOTAL NO. of ITERATIONS REACHED LIMIT.\n",
            "\n",
            "Increase the number of iterations (max_iter) or scale the data as shown in:\n",
            "    https://scikit-learn.org/stable/modules/preprocessing.html\n",
            "Please also refer to the documentation for alternative solver options:\n",
            "    https://scikit-learn.org/stable/modules/linear_model.html#logistic-regression\n",
            "  extra_warning_msg=_LOGISTIC_SOLVER_CONVERGENCE_MSG)\n",
            "/usr/local/lib/python3.6/dist-packages/sklearn/linear_model/_logistic.py:940: ConvergenceWarning: lbfgs failed to converge (status=1):\n",
            "STOP: TOTAL NO. of ITERATIONS REACHED LIMIT.\n",
            "\n",
            "Increase the number of iterations (max_iter) or scale the data as shown in:\n",
            "    https://scikit-learn.org/stable/modules/preprocessing.html\n",
            "Please also refer to the documentation for alternative solver options:\n",
            "    https://scikit-learn.org/stable/modules/linear_model.html#logistic-regression\n",
            "  extra_warning_msg=_LOGISTIC_SOLVER_CONVERGENCE_MSG)\n",
            "/usr/local/lib/python3.6/dist-packages/sklearn/linear_model/_logistic.py:940: ConvergenceWarning: lbfgs failed to converge (status=1):\n",
            "STOP: TOTAL NO. of ITERATIONS REACHED LIMIT.\n",
            "\n",
            "Increase the number of iterations (max_iter) or scale the data as shown in:\n",
            "    https://scikit-learn.org/stable/modules/preprocessing.html\n",
            "Please also refer to the documentation for alternative solver options:\n",
            "    https://scikit-learn.org/stable/modules/linear_model.html#logistic-regression\n",
            "  extra_warning_msg=_LOGISTIC_SOLVER_CONVERGENCE_MSG)\n",
            "/usr/local/lib/python3.6/dist-packages/sklearn/linear_model/_logistic.py:940: ConvergenceWarning: lbfgs failed to converge (status=1):\n",
            "STOP: TOTAL NO. of ITERATIONS REACHED LIMIT.\n",
            "\n",
            "Increase the number of iterations (max_iter) or scale the data as shown in:\n",
            "    https://scikit-learn.org/stable/modules/preprocessing.html\n",
            "Please also refer to the documentation for alternative solver options:\n",
            "    https://scikit-learn.org/stable/modules/linear_model.html#logistic-regression\n",
            "  extra_warning_msg=_LOGISTIC_SOLVER_CONVERGENCE_MSG)\n",
            "/usr/local/lib/python3.6/dist-packages/sklearn/linear_model/_logistic.py:940: ConvergenceWarning: lbfgs failed to converge (status=1):\n",
            "STOP: TOTAL NO. of ITERATIONS REACHED LIMIT.\n",
            "\n",
            "Increase the number of iterations (max_iter) or scale the data as shown in:\n",
            "    https://scikit-learn.org/stable/modules/preprocessing.html\n",
            "Please also refer to the documentation for alternative solver options:\n",
            "    https://scikit-learn.org/stable/modules/linear_model.html#logistic-regression\n",
            "  extra_warning_msg=_LOGISTIC_SOLVER_CONVERGENCE_MSG)\n",
            "/usr/local/lib/python3.6/dist-packages/sklearn/linear_model/_logistic.py:940: ConvergenceWarning: lbfgs failed to converge (status=1):\n",
            "STOP: TOTAL NO. of ITERATIONS REACHED LIMIT.\n",
            "\n",
            "Increase the number of iterations (max_iter) or scale the data as shown in:\n",
            "    https://scikit-learn.org/stable/modules/preprocessing.html\n",
            "Please also refer to the documentation for alternative solver options:\n",
            "    https://scikit-learn.org/stable/modules/linear_model.html#logistic-regression\n",
            "  extra_warning_msg=_LOGISTIC_SOLVER_CONVERGENCE_MSG)\n",
            "/usr/local/lib/python3.6/dist-packages/sklearn/linear_model/_logistic.py:940: ConvergenceWarning: lbfgs failed to converge (status=1):\n",
            "STOP: TOTAL NO. of ITERATIONS REACHED LIMIT.\n",
            "\n",
            "Increase the number of iterations (max_iter) or scale the data as shown in:\n",
            "    https://scikit-learn.org/stable/modules/preprocessing.html\n",
            "Please also refer to the documentation for alternative solver options:\n",
            "    https://scikit-learn.org/stable/modules/linear_model.html#logistic-regression\n",
            "  extra_warning_msg=_LOGISTIC_SOLVER_CONVERGENCE_MSG)\n",
            "/usr/local/lib/python3.6/dist-packages/sklearn/linear_model/_logistic.py:940: ConvergenceWarning: lbfgs failed to converge (status=1):\n",
            "STOP: TOTAL NO. of ITERATIONS REACHED LIMIT.\n",
            "\n",
            "Increase the number of iterations (max_iter) or scale the data as shown in:\n",
            "    https://scikit-learn.org/stable/modules/preprocessing.html\n",
            "Please also refer to the documentation for alternative solver options:\n",
            "    https://scikit-learn.org/stable/modules/linear_model.html#logistic-regression\n",
            "  extra_warning_msg=_LOGISTIC_SOLVER_CONVERGENCE_MSG)\n",
            "/usr/local/lib/python3.6/dist-packages/sklearn/linear_model/_logistic.py:940: ConvergenceWarning: lbfgs failed to converge (status=1):\n",
            "STOP: TOTAL NO. of ITERATIONS REACHED LIMIT.\n",
            "\n",
            "Increase the number of iterations (max_iter) or scale the data as shown in:\n",
            "    https://scikit-learn.org/stable/modules/preprocessing.html\n",
            "Please also refer to the documentation for alternative solver options:\n",
            "    https://scikit-learn.org/stable/modules/linear_model.html#logistic-regression\n",
            "  extra_warning_msg=_LOGISTIC_SOLVER_CONVERGENCE_MSG)\n",
            "/usr/local/lib/python3.6/dist-packages/sklearn/linear_model/_logistic.py:940: ConvergenceWarning: lbfgs failed to converge (status=1):\n",
            "STOP: TOTAL NO. of ITERATIONS REACHED LIMIT.\n",
            "\n",
            "Increase the number of iterations (max_iter) or scale the data as shown in:\n",
            "    https://scikit-learn.org/stable/modules/preprocessing.html\n",
            "Please also refer to the documentation for alternative solver options:\n",
            "    https://scikit-learn.org/stable/modules/linear_model.html#logistic-regression\n",
            "  extra_warning_msg=_LOGISTIC_SOLVER_CONVERGENCE_MSG)\n",
            "/usr/local/lib/python3.6/dist-packages/sklearn/linear_model/_logistic.py:940: ConvergenceWarning: lbfgs failed to converge (status=1):\n",
            "STOP: TOTAL NO. of ITERATIONS REACHED LIMIT.\n",
            "\n",
            "Increase the number of iterations (max_iter) or scale the data as shown in:\n",
            "    https://scikit-learn.org/stable/modules/preprocessing.html\n",
            "Please also refer to the documentation for alternative solver options:\n",
            "    https://scikit-learn.org/stable/modules/linear_model.html#logistic-regression\n",
            "  extra_warning_msg=_LOGISTIC_SOLVER_CONVERGENCE_MSG)\n",
            "/usr/local/lib/python3.6/dist-packages/sklearn/linear_model/_logistic.py:940: ConvergenceWarning: lbfgs failed to converge (status=1):\n",
            "STOP: TOTAL NO. of ITERATIONS REACHED LIMIT.\n",
            "\n",
            "Increase the number of iterations (max_iter) or scale the data as shown in:\n",
            "    https://scikit-learn.org/stable/modules/preprocessing.html\n",
            "Please also refer to the documentation for alternative solver options:\n",
            "    https://scikit-learn.org/stable/modules/linear_model.html#logistic-regression\n",
            "  extra_warning_msg=_LOGISTIC_SOLVER_CONVERGENCE_MSG)\n",
            "/usr/local/lib/python3.6/dist-packages/sklearn/linear_model/_logistic.py:940: ConvergenceWarning: lbfgs failed to converge (status=1):\n",
            "STOP: TOTAL NO. of ITERATIONS REACHED LIMIT.\n",
            "\n",
            "Increase the number of iterations (max_iter) or scale the data as shown in:\n",
            "    https://scikit-learn.org/stable/modules/preprocessing.html\n",
            "Please also refer to the documentation for alternative solver options:\n",
            "    https://scikit-learn.org/stable/modules/linear_model.html#logistic-regression\n",
            "  extra_warning_msg=_LOGISTIC_SOLVER_CONVERGENCE_MSG)\n",
            "/usr/local/lib/python3.6/dist-packages/sklearn/linear_model/_logistic.py:940: ConvergenceWarning: lbfgs failed to converge (status=1):\n",
            "STOP: TOTAL NO. of ITERATIONS REACHED LIMIT.\n",
            "\n",
            "Increase the number of iterations (max_iter) or scale the data as shown in:\n",
            "    https://scikit-learn.org/stable/modules/preprocessing.html\n",
            "Please also refer to the documentation for alternative solver options:\n",
            "    https://scikit-learn.org/stable/modules/linear_model.html#logistic-regression\n",
            "  extra_warning_msg=_LOGISTIC_SOLVER_CONVERGENCE_MSG)\n"
          ],
          "name": "stderr"
        }
      ]
    },
    {
      "cell_type": "code",
      "metadata": {
        "id": "Cqb9mlrKfnTa",
        "colab_type": "code",
        "colab": {
          "base_uri": "https://localhost:8080/",
          "height": 221
        },
        "outputId": "2d7fa34f-2c64-483a-9732-2059d6f171b6"
      },
      "source": [
        "for variety in wine:\n",
        "    testing_probs[variety] = models[variety].predict_proba(X_test_clean)[:,1]\n",
        "    \n",
        "predicted_wine = testing_probs.idxmax(axis=1)\n",
        "\n",
        "comparison = pd.DataFrame({'actual':y_test.values, 'predicted':predicted_wine.values})   \n",
        "\n",
        "from sklearn.metrics import accuracy_score\n",
        "print('Accuracy Score:',accuracy_score(comparison.actual, comparison.predicted)*100,\"%\")\n",
        "comparison.head(5)"
      ],
      "execution_count": 139,
      "outputs": [
        {
          "output_type": "stream",
          "text": [
            "Accuracy Score: 59.68152161893177 %\n"
          ],
          "name": "stdout"
        },
        {
          "output_type": "execute_result",
          "data": {
            "text/html": [
              "<div>\n",
              "<style scoped>\n",
              "    .dataframe tbody tr th:only-of-type {\n",
              "        vertical-align: middle;\n",
              "    }\n",
              "\n",
              "    .dataframe tbody tr th {\n",
              "        vertical-align: top;\n",
              "    }\n",
              "\n",
              "    .dataframe thead th {\n",
              "        text-align: right;\n",
              "    }\n",
              "</style>\n",
              "<table border=\"1\" class=\"dataframe\">\n",
              "  <thead>\n",
              "    <tr style=\"text-align: right;\">\n",
              "      <th></th>\n",
              "      <th>actual</th>\n",
              "      <th>predicted</th>\n",
              "    </tr>\n",
              "  </thead>\n",
              "  <tbody>\n",
              "    <tr>\n",
              "      <th>0</th>\n",
              "      <td>Sangiovese</td>\n",
              "      <td>Nebbiolo</td>\n",
              "    </tr>\n",
              "    <tr>\n",
              "      <th>1</th>\n",
              "      <td>Rhône-style Red Blend</td>\n",
              "      <td>Rhône-style Red Blend</td>\n",
              "    </tr>\n",
              "    <tr>\n",
              "      <th>2</th>\n",
              "      <td>Grüner Veltliner</td>\n",
              "      <td>Sparkling Blend</td>\n",
              "    </tr>\n",
              "    <tr>\n",
              "      <th>3</th>\n",
              "      <td>Nebbiolo</td>\n",
              "      <td>Nebbiolo</td>\n",
              "    </tr>\n",
              "    <tr>\n",
              "      <th>4</th>\n",
              "      <td>Red Blend</td>\n",
              "      <td>Red Blend</td>\n",
              "    </tr>\n",
              "  </tbody>\n",
              "</table>\n",
              "</div>"
            ],
            "text/plain": [
              "                  actual              predicted\n",
              "0             Sangiovese               Nebbiolo\n",
              "1  Rhône-style Red Blend  Rhône-style Red Blend\n",
              "2       Grüner Veltliner        Sparkling Blend\n",
              "3               Nebbiolo               Nebbiolo\n",
              "4              Red Blend              Red Blend"
            ]
          },
          "metadata": {
            "tags": []
          },
          "execution_count": 139
        }
      ]
    },
    {
      "cell_type": "code",
      "metadata": {
        "id": "glB350bugRwF",
        "colab_type": "code",
        "colab": {}
      },
      "source": [
        "test=pd.read_csv(\"/content/drive/My Drive/fin tech/test.csv\")"
      ],
      "execution_count": 0,
      "outputs": []
    },
    {
      "cell_type": "code",
      "metadata": {
        "id": "Rkq2Mza-g5yX",
        "colab_type": "code",
        "colab": {
          "base_uri": "https://localhost:8080/",
          "height": 306
        },
        "outputId": "f7456889-bae4-42a0-b607-acabf2317510"
      },
      "source": [
        "test.head(5)"
      ],
      "execution_count": 151,
      "outputs": [
        {
          "output_type": "execute_result",
          "data": {
            "text/html": [
              "<div>\n",
              "<style scoped>\n",
              "    .dataframe tbody tr th:only-of-type {\n",
              "        vertical-align: middle;\n",
              "    }\n",
              "\n",
              "    .dataframe tbody tr th {\n",
              "        vertical-align: top;\n",
              "    }\n",
              "\n",
              "    .dataframe thead th {\n",
              "        text-align: right;\n",
              "    }\n",
              "</style>\n",
              "<table border=\"1\" class=\"dataframe\">\n",
              "  <thead>\n",
              "    <tr style=\"text-align: right;\">\n",
              "      <th></th>\n",
              "      <th>user_name</th>\n",
              "      <th>country</th>\n",
              "      <th>review_title</th>\n",
              "      <th>review_description</th>\n",
              "      <th>designation</th>\n",
              "      <th>points</th>\n",
              "      <th>price</th>\n",
              "      <th>province</th>\n",
              "      <th>region_1</th>\n",
              "      <th>region_2</th>\n",
              "      <th>winery</th>\n",
              "    </tr>\n",
              "  </thead>\n",
              "  <tbody>\n",
              "    <tr>\n",
              "      <th>0</th>\n",
              "      <td>@paulgwine</td>\n",
              "      <td>US</td>\n",
              "      <td>Boedecker Cellars 2011 Athena Pinot Noir (Will...</td>\n",
              "      <td>Nicely differentiated from the companion Stewa...</td>\n",
              "      <td>Athena</td>\n",
              "      <td>88</td>\n",
              "      <td>35.0</td>\n",
              "      <td>Oregon</td>\n",
              "      <td>Willamette Valley</td>\n",
              "      <td>Willamette Valley</td>\n",
              "      <td>Boedecker Cellars</td>\n",
              "    </tr>\n",
              "    <tr>\n",
              "      <th>1</th>\n",
              "      <td>@wineschach</td>\n",
              "      <td>Argentina</td>\n",
              "      <td>Mendoza Vineyards 2012 Gran Reserva by Richard...</td>\n",
              "      <td>Charred, smoky, herbal aromas of blackberry tr...</td>\n",
              "      <td>Gran Reserva by Richard Bonvin</td>\n",
              "      <td>90</td>\n",
              "      <td>60.0</td>\n",
              "      <td>Mendoza Province</td>\n",
              "      <td>Mendoza</td>\n",
              "      <td>NaN</td>\n",
              "      <td>Mendoza Vineyards</td>\n",
              "    </tr>\n",
              "    <tr>\n",
              "      <th>2</th>\n",
              "      <td>@vboone</td>\n",
              "      <td>US</td>\n",
              "      <td>Prime 2013 Chardonnay (Coombsville)</td>\n",
              "      <td>Slightly sour and funky in earth, this is a re...</td>\n",
              "      <td>NaN</td>\n",
              "      <td>87</td>\n",
              "      <td>38.0</td>\n",
              "      <td>California</td>\n",
              "      <td>Coombsville</td>\n",
              "      <td>Napa</td>\n",
              "      <td>Prime</td>\n",
              "    </tr>\n",
              "    <tr>\n",
              "      <th>3</th>\n",
              "      <td>@wineschach</td>\n",
              "      <td>Argentina</td>\n",
              "      <td>Bodega Cuarto Dominio 2012 Chento Vineyard Sel...</td>\n",
              "      <td>This concentrated, midnight-black Malbec deliv...</td>\n",
              "      <td>Chento Vineyard Selection</td>\n",
              "      <td>91</td>\n",
              "      <td>20.0</td>\n",
              "      <td>Mendoza Province</td>\n",
              "      <td>Mendoza</td>\n",
              "      <td>NaN</td>\n",
              "      <td>Bodega Cuarto Dominio</td>\n",
              "    </tr>\n",
              "    <tr>\n",
              "      <th>4</th>\n",
              "      <td>@kerinokeefe</td>\n",
              "      <td>Italy</td>\n",
              "      <td>SassodiSole 2012  Brunello di Montalcino</td>\n",
              "      <td>Earthy aromas suggesting grilled porcini, leat...</td>\n",
              "      <td>NaN</td>\n",
              "      <td>90</td>\n",
              "      <td>49.0</td>\n",
              "      <td>Tuscany</td>\n",
              "      <td>Brunello di Montalcino</td>\n",
              "      <td>NaN</td>\n",
              "      <td>SassodiSole</td>\n",
              "    </tr>\n",
              "  </tbody>\n",
              "</table>\n",
              "</div>"
            ],
            "text/plain": [
              "      user_name    country  ...           region_2                 winery\n",
              "0   @paulgwine          US  ...  Willamette Valley      Boedecker Cellars\n",
              "1   @wineschach  Argentina  ...                NaN      Mendoza Vineyards\n",
              "2       @vboone         US  ...               Napa                  Prime\n",
              "3   @wineschach  Argentina  ...                NaN  Bodega Cuarto Dominio\n",
              "4  @kerinokeefe      Italy  ...                NaN            SassodiSole\n",
              "\n",
              "[5 rows x 11 columns]"
            ]
          },
          "metadata": {
            "tags": []
          },
          "execution_count": 151
        }
      ]
    },
    {
      "cell_type": "code",
      "metadata": {
        "id": "qrJR2TkhhADK",
        "colab_type": "code",
        "colab": {}
      },
      "source": [
        "test_new = test.drop(['user_name','country','review_title','points','province','region_1','region_2','winery','designation'], axis = 1)"
      ],
      "execution_count": 0,
      "outputs": []
    },
    {
      "cell_type": "code",
      "metadata": {
        "id": "MeEqVwfiixfx",
        "colab_type": "code",
        "colab": {}
      },
      "source": [
        "test_new.dropna(subset=['price'],inplace=True)"
      ],
      "execution_count": 0,
      "outputs": []
    },
    {
      "cell_type": "code",
      "metadata": {
        "id": "a4fSj4Zmhvy-",
        "colab_type": "code",
        "colab": {
          "base_uri": "https://localhost:8080/",
          "height": 51
        },
        "outputId": "0207523d-ae15-4162-b85e-083d91ac14a6"
      },
      "source": [
        "test_clean = vect.transform(test_new.review_description)\n",
        "price_test = test_new.price.values[:,None]\n",
        "test_clean = hstack((test_clean, price_test))\n",
        "test_clean"
      ],
      "execution_count": 154,
      "outputs": [
        {
          "output_type": "execute_result",
          "data": {
            "text/plain": [
              "<19271x22516 sparse matrix of type '<class 'numpy.float64'>'\n",
              "\twith 478838 stored elements in COOrdinate format>"
            ]
          },
          "metadata": {
            "tags": []
          },
          "execution_count": 154
        }
      ]
    },
    {
      "cell_type": "code",
      "metadata": {
        "id": "DknX1UDeiA_7",
        "colab_type": "code",
        "colab": {}
      },
      "source": [
        "testing = pd.DataFrame(columns = wine)\n",
        "for variety in wine:\n",
        "    testing[variety] = models[variety].predict_proba(test_clean)[:,1]\n",
        "    \n",
        "predicted_wine = testing.idxmax(axis=1)"
      ],
      "execution_count": 0,
      "outputs": []
    },
    {
      "cell_type": "code",
      "metadata": {
        "id": "9i4-d9fblLsk",
        "colab_type": "code",
        "colab": {
          "base_uri": "https://localhost:8080/",
          "height": 221
        },
        "outputId": "e1835a53-da41-4998-bc61-dce577d6a301"
      },
      "source": [
        "predicted_wine"
      ],
      "execution_count": 161,
      "outputs": [
        {
          "output_type": "execute_result",
          "data": {
            "text/plain": [
              "0                Pinot Noir\n",
              "1                    Malbec\n",
              "2                Chardonnay\n",
              "3                 Red Blend\n",
              "4                Sangiovese\n",
              "                ...        \n",
              "19266             Red Blend\n",
              "19267                  Rosé\n",
              "19268    Cabernet Sauvignon\n",
              "19269                Malbec\n",
              "19270    Cabernet Sauvignon\n",
              "Length: 19271, dtype: object"
            ]
          },
          "metadata": {
            "tags": []
          },
          "execution_count": 161
        }
      ]
    },
    {
      "cell_type": "code",
      "metadata": {
        "id": "1NKy1JE7iZBl",
        "colab_type": "code",
        "colab": {}
      },
      "source": [
        "test['Resulted_Variety']=predicted_wine"
      ],
      "execution_count": 0,
      "outputs": []
    },
    {
      "cell_type": "code",
      "metadata": {
        "id": "wgeQEytikxd4",
        "colab_type": "code",
        "colab": {
          "base_uri": "https://localhost:8080/",
          "height": 374
        },
        "outputId": "48be3e65-c497-4d33-8d75-aecbbfd25871"
      },
      "source": [
        "test.head(5)"
      ],
      "execution_count": 163,
      "outputs": [
        {
          "output_type": "execute_result",
          "data": {
            "text/html": [
              "<div>\n",
              "<style scoped>\n",
              "    .dataframe tbody tr th:only-of-type {\n",
              "        vertical-align: middle;\n",
              "    }\n",
              "\n",
              "    .dataframe tbody tr th {\n",
              "        vertical-align: top;\n",
              "    }\n",
              "\n",
              "    .dataframe thead th {\n",
              "        text-align: right;\n",
              "    }\n",
              "</style>\n",
              "<table border=\"1\" class=\"dataframe\">\n",
              "  <thead>\n",
              "    <tr style=\"text-align: right;\">\n",
              "      <th></th>\n",
              "      <th>user_name</th>\n",
              "      <th>country</th>\n",
              "      <th>review_title</th>\n",
              "      <th>review_description</th>\n",
              "      <th>designation</th>\n",
              "      <th>points</th>\n",
              "      <th>price</th>\n",
              "      <th>province</th>\n",
              "      <th>region_1</th>\n",
              "      <th>region_2</th>\n",
              "      <th>winery</th>\n",
              "      <th>Resulted_Variety</th>\n",
              "    </tr>\n",
              "  </thead>\n",
              "  <tbody>\n",
              "    <tr>\n",
              "      <th>0</th>\n",
              "      <td>@paulgwine</td>\n",
              "      <td>US</td>\n",
              "      <td>Boedecker Cellars 2011 Athena Pinot Noir (Will...</td>\n",
              "      <td>Nicely differentiated from the companion Stewa...</td>\n",
              "      <td>Athena</td>\n",
              "      <td>88</td>\n",
              "      <td>35.0</td>\n",
              "      <td>Oregon</td>\n",
              "      <td>Willamette Valley</td>\n",
              "      <td>Willamette Valley</td>\n",
              "      <td>Boedecker Cellars</td>\n",
              "      <td>Pinot Noir</td>\n",
              "    </tr>\n",
              "    <tr>\n",
              "      <th>1</th>\n",
              "      <td>@wineschach</td>\n",
              "      <td>Argentina</td>\n",
              "      <td>Mendoza Vineyards 2012 Gran Reserva by Richard...</td>\n",
              "      <td>Charred, smoky, herbal aromas of blackberry tr...</td>\n",
              "      <td>Gran Reserva by Richard Bonvin</td>\n",
              "      <td>90</td>\n",
              "      <td>60.0</td>\n",
              "      <td>Mendoza Province</td>\n",
              "      <td>Mendoza</td>\n",
              "      <td>NaN</td>\n",
              "      <td>Mendoza Vineyards</td>\n",
              "      <td>Malbec</td>\n",
              "    </tr>\n",
              "    <tr>\n",
              "      <th>2</th>\n",
              "      <td>@vboone</td>\n",
              "      <td>US</td>\n",
              "      <td>Prime 2013 Chardonnay (Coombsville)</td>\n",
              "      <td>Slightly sour and funky in earth, this is a re...</td>\n",
              "      <td>NaN</td>\n",
              "      <td>87</td>\n",
              "      <td>38.0</td>\n",
              "      <td>California</td>\n",
              "      <td>Coombsville</td>\n",
              "      <td>Napa</td>\n",
              "      <td>Prime</td>\n",
              "      <td>Chardonnay</td>\n",
              "    </tr>\n",
              "    <tr>\n",
              "      <th>3</th>\n",
              "      <td>@wineschach</td>\n",
              "      <td>Argentina</td>\n",
              "      <td>Bodega Cuarto Dominio 2012 Chento Vineyard Sel...</td>\n",
              "      <td>This concentrated, midnight-black Malbec deliv...</td>\n",
              "      <td>Chento Vineyard Selection</td>\n",
              "      <td>91</td>\n",
              "      <td>20.0</td>\n",
              "      <td>Mendoza Province</td>\n",
              "      <td>Mendoza</td>\n",
              "      <td>NaN</td>\n",
              "      <td>Bodega Cuarto Dominio</td>\n",
              "      <td>Red Blend</td>\n",
              "    </tr>\n",
              "    <tr>\n",
              "      <th>4</th>\n",
              "      <td>@kerinokeefe</td>\n",
              "      <td>Italy</td>\n",
              "      <td>SassodiSole 2012  Brunello di Montalcino</td>\n",
              "      <td>Earthy aromas suggesting grilled porcini, leat...</td>\n",
              "      <td>NaN</td>\n",
              "      <td>90</td>\n",
              "      <td>49.0</td>\n",
              "      <td>Tuscany</td>\n",
              "      <td>Brunello di Montalcino</td>\n",
              "      <td>NaN</td>\n",
              "      <td>SassodiSole</td>\n",
              "      <td>Sangiovese</td>\n",
              "    </tr>\n",
              "  </tbody>\n",
              "</table>\n",
              "</div>"
            ],
            "text/plain": [
              "      user_name    country  ...                 winery Resulted_Variety\n",
              "0   @paulgwine          US  ...      Boedecker Cellars       Pinot Noir\n",
              "1   @wineschach  Argentina  ...      Mendoza Vineyards           Malbec\n",
              "2       @vboone         US  ...                  Prime       Chardonnay\n",
              "3   @wineschach  Argentina  ...  Bodega Cuarto Dominio        Red Blend\n",
              "4  @kerinokeefe      Italy  ...            SassodiSole       Sangiovese\n",
              "\n",
              "[5 rows x 12 columns]"
            ]
          },
          "metadata": {
            "tags": []
          },
          "execution_count": 163
        }
      ]
    },
    {
      "cell_type": "code",
      "metadata": {
        "id": "Ai107iNMk7T8",
        "colab_type": "code",
        "colab": {}
      },
      "source": [
        ""
      ],
      "execution_count": 0,
      "outputs": []
    }
  ]
}